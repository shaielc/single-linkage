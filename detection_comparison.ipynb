{
 "cells": [
  {
   "cell_type": "code",
   "execution_count": 1,
   "id": "2463c7a7-33eb-4164-8f08-274b0e269289",
   "metadata": {},
   "outputs": [
    {
     "name": "stderr",
     "output_type": "stream",
     "text": [
      "C:\\Users\\Shaiel Cohen\\AppData\\Local\\Temp\\ipykernel_18808\\1841775795.py:29: NumbaPerformanceWarning: \u001b[1m\u001b[1m'@' is faster on contiguous arrays, called on (Array(float64, 1, 'A', False, aligned=True), Array(float64, 1, 'C', False, aligned=True))\u001b[0m\u001b[0m\n",
      "  est[i,j] = t @ (phi_inv @ (pixel - M[i,j]))\n"
     ]
    }
   ],
   "source": [
    "%matplotlib widget\n",
    "from scipy.signal import convolve\n",
    "from process_cube.dat import read_dat_file, Header\n",
    "import numpy as np\n",
    "from tqdm.notebook import tqdm\n",
    "import numba\n",
    "\n",
    "def neighbour_mean(x):\n",
    "    kernel = np.ones((3,3))\n",
    "    kernel[1,1] =0\n",
    "    kernel = kernel[...,np.newaxis]\n",
    "    out = convolve(x, kernel,\"same\")\n",
    "    out[0,0]/=3\n",
    "    out[-1,-1]/=3\n",
    "    out[-1,0]/=3\n",
    "    out[0,-1]/=3\n",
    "    out[0,1:-1]/=5\n",
    "    out[-1,1:-1]/=5\n",
    "    out[1:-1,0]/=5\n",
    "    out[1:-1,-1]/=5\n",
    "    out[1:-1,1:-1]/=8\n",
    "    return out\n",
    "\n",
    "@numba.njit\n",
    "def estimation(t,phi_inv, data, M):\n",
    "    est = np.zeros(data.shape[:2])\n",
    "    for i,row in enumerate(data):\n",
    "        for j,pixel in enumerate(row):\n",
    "            est[i,j] = t @ (phi_inv @ (pixel - M[i,j]))\n",
    "    return est\n",
    "\n",
    "def covariance_matrix(x):\n",
    "    covariance = np.zeros((x.shape[-1], x.shape[-1]))\n",
    "    for i,row in enumerate(x):\n",
    "        for j,pixel in enumerate(row):\n",
    "            covariance += pixel.reshape(-1,1) * pixel.reshape(1,-1)\n",
    "            \n",
    "    return covariance/x.shape[0]/x.shape[1]\n",
    "\n",
    "def bins_centers(bins):\n",
    "    return (bins[:-1] + bins[1:])/2\n",
    "\n",
    "def get_shared_bins(count, *args):\n",
    "    low = np.min(args)\n",
    "    high = np.max(args)\n",
    "    return np.linspace(low, high, count+1)\n",
    "\n",
    "def original_algorithm(data, p, t):\n",
    "    M = neighbour_mean(data)\n",
    "    data_tag = data + p*t\n",
    "    phi = covariance_matrix(data-M)\n",
    "    phi_inv = np.linalg.inv(phi)\n",
    "    est_no_target = estimation(t,phi_inv, data, M)\n",
    "    est_with_target = estimation(t,phi_inv, data_tag, M)\n",
    "    return est_no_target, est_with_target\n",
    "\n",
    "header = Header.read_header(\"self_test_rad.hdr\")\n",
    "img = read_dat_file(\"self_test_rad.img\", header).astype(np.float64)\n",
    "p = 0.02\n",
    "t = img[60,70,:]\n",
    "no_target, with_target= original_algorithm(img, p, t)"
   ]
  },
  {
   "cell_type": "code",
   "execution_count": 2,
   "id": "0be45b14-d0f4-4bcd-bf7b-1eca48c8ab46",
   "metadata": {},
   "outputs": [
    {
     "data": {
      "application/json": {
       "ascii": false,
       "bar_format": null,
       "colour": null,
       "elapsed": 0.003998756408691406,
       "initial": 0,
       "n": 0,
       "ncols": null,
       "nrows": 12,
       "postfix": null,
       "prefix": "",
       "rate": null,
       "total": 7,
       "unit": "it",
       "unit_divisor": 1000,
       "unit_scale": false
      },
      "application/vnd.jupyter.widget-view+json": {
       "model_id": "7ffa5fa22594426db6c344b85d8ea8be",
       "version_major": 2,
       "version_minor": 0
      },
      "text/plain": [
       "  0%|          | 0/7 [00:00<?, ?it/s]"
      ]
     },
     "metadata": {},
     "output_type": "display_data"
    }
   ],
   "source": [
    "import json\n",
    "from tqdm.notebook import tqdm\n",
    "\n",
    "@numba.njit\n",
    "def clustered_estimation(t, data, M, clustered_image, clusters_covariance):\n",
    "    est = np.zeros(data.shape[:2])\n",
    "    for i,row in enumerate(data):\n",
    "        for j,pixel in enumerate(row):\n",
    "            k = clustered_image[i,j]\n",
    "            est[i,j] = t @ (clusters_covariance[k] @ (pixel - M[i,j]))\n",
    "    return est\n",
    "\n",
    "def clustered_algorithm(data, p, t, clustered_image):\n",
    "    M = neighbour_mean(data)\n",
    "    data_tag = data + p*t\n",
    "    clusters_covariance = np.array([np.linalg.inv(covariance_matrix((data-M)[clustered_image == k][np.newaxis])) for k in tqdm(range(len(cluster_names)))])\n",
    "    est_no_target = clustered_estimation(t, data, M, clustered_image, clusters_covariance)\n",
    "    est_with_target = clustered_estimation(t, data_tag, M, clustered_image, clusters_covariance)\n",
    "    return est_no_target, est_with_target\n",
    "\n",
    "# Read clusters\n",
    "with open(\"clusters.json\") as f:\n",
    "    clusters = json.load(f)\n",
    "\n",
    "clusters_indexes = {tuple(cluster[\"name\"]): cluster[\"cluster\"] for cluster in clusters.values()}\n",
    "cluster_names = list(clusters_indexes.keys())\n",
    "clusters_pixel_index = list(clusters_indexes.values())\n",
    "clustered_image = np.zeros((img.shape[0], img.shape[1]), dtype=int)\n",
    "\n",
    "for k, cluster_pixel_index in enumerate(clusters_pixel_index):\n",
    "    for i,j in cluster_pixel_index:\n",
    "        clustered_image[i,j] = k\n",
    "\n",
    "clustered_est_no_target, clustered_est_with_target = clustered_algorithm(img, p, t, clustered_image)"
   ]
  },
  {
   "cell_type": "code",
   "execution_count": 3,
   "id": "a018a53f-bef6-4d87-a4c3-d5a9771e1abd",
   "metadata": {},
   "outputs": [
    {
     "data": {
      "application/vnd.jupyter.widget-view+json": {
       "model_id": "30de549994dc4118a823b543362a8f67",
       "version_major": 2,
       "version_minor": 0
      },
      "text/plain": [
       "Canvas(toolbar=Toolbar(toolitems=[('Home', 'Reset original view', 'home', 'home'), ('Back', 'Back to previous …"
      ]
     },
     "metadata": {},
     "output_type": "display_data"
    },
    {
     "data": {
      "text/plain": [
       "[<matplotlib.lines.Line2D at 0x1e99e768f40>]"
      ]
     },
     "execution_count": 3,
     "metadata": {},
     "output_type": "execute_result"
    }
   ],
   "source": [
    "\n",
    "from matplotlib import pyplot as plt\n",
    "def get_shared_bins(count, *args):\n",
    "    low = np.min(args)\n",
    "    high = np.max(args)\n",
    "    return np.linspace(low, high, count+1)\n",
    "bins = get_shared_bins(1000, no_target, with_target)\n",
    "count_no_target,bins_no_target = np.histogram(no_target.reshape(-1,),bins=bins)\n",
    "count_with_target,bins_with_target =np.histogram(with_target.reshape(-1,),bins=bins)\n",
    "fig = plt.figure()\n",
    "plt.plot(bins_centers(bins_no_target), count_no_target)\n",
    "plt.plot(bins_centers(bins_with_target), count_with_target)"
   ]
  },
  {
   "cell_type": "code",
   "execution_count": 4,
   "id": "0600e17f-ea22-4b92-81ca-fe4efc917d64",
   "metadata": {},
   "outputs": [
    {
     "data": {
      "application/vnd.jupyter.widget-view+json": {
       "model_id": "04691045a5af4155bb4f45da99f30a42",
       "version_major": 2,
       "version_minor": 0
      },
      "text/plain": [
       "Canvas(toolbar=Toolbar(toolitems=[('Home', 'Reset original view', 'home', 'home'), ('Back', 'Back to previous …"
      ]
     },
     "metadata": {},
     "output_type": "display_data"
    },
    {
     "data": {
      "text/plain": [
       "0.298703661129998"
      ]
     },
     "execution_count": 4,
     "metadata": {},
     "output_type": "execute_result"
    }
   ],
   "source": [
    "from scipy.interpolate import pchip\n",
    "\n",
    "def get_inv_cdf(count, bins):\n",
    "    cdf = np.cumsum(count)/np.sum(count)\n",
    "    return 1 - cdf/cdf[-1]\n",
    "\n",
    "def extend_cdf_range(samples, sample_points, new_sample_points):\n",
    "    out = np.zeros(len(new_sample_points))\n",
    "    current_point_index = 1\n",
    "    current_point = sample_points[current_point_index]\n",
    "    current_sample = samples[current_point_index]\n",
    "    for i, sample_point in enumerate(new_sample_points):\n",
    "        if sample_point >= current_point:\n",
    "            current_point_index += 1\n",
    "        if current_point_index >= len(sample_points):\n",
    "            current_sample = 0\n",
    "        else: \n",
    "            current_sample = samples[current_point_index-1]\n",
    "        out[i] = current_sample\n",
    "    return out\n",
    "\n",
    "inv_cdf_no_target = get_inv_cdf(count_no_target, bins_no_target)\n",
    "inv_cdf_with_target = get_inv_cdf(count_with_target, bins_no_target)\n",
    "value_range = np.sort(np.concatenate((bins_no_target,bins_with_target)))\n",
    "inv_cdf_no_target = extend_cdf_range(inv_cdf_no_target, bins_no_target, value_range)\n",
    "inv_cdf_with_target = extend_cdf_range(inv_cdf_with_target, bins_with_target, value_range)\n",
    "plt.figure()\n",
    "line, = plt.plot(inv_cdf_no_target, inv_cdf_with_target)\n",
    "plt.xlim([-0.001,0.1001])\n",
    "plt.ylim([-0.01,1])\n",
    "plt.axline((0,0),(0.1,0.1),color=line.get_color(),linestyle=\"--\")\n",
    "plt.ylabel(\"P-TP\")\n",
    "plt.xlabel(\"P-FP\")\n",
    "\n",
    "def lin_interp(x1,y1,x2,y2,x):\n",
    "    m = (y2-y1)/(x2-x1)\n",
    "    n = y1\n",
    "    return m*(x-x1) + n\n",
    "def A_value(inv_cdf_no_target, inv_cdf_with_target, threshold):\n",
    "    inv_cdf_no_target = inv_cdf_no_target[::-1]\n",
    "    inv_cdf_with_target = inv_cdf_with_target[::-1]\n",
    "    triangle_area = 0.5 * threshold**2\n",
    "    cutoff = np.argmax(inv_cdf_no_target > threshold)-1\n",
    "    cutoff = np.max([0,cutoff])\n",
    "    \n",
    "    point = lin_interp(\n",
    "        inv_cdf_no_target[cutoff],\n",
    "        inv_cdf_with_target[cutoff],\n",
    "        inv_cdf_no_target[cutoff+1],\n",
    "        inv_cdf_with_target[cutoff+1],\n",
    "        threshold\n",
    "    )\n",
    "    inv_cdf_no_target = np.concatenate((inv_cdf_no_target[:cutoff], [threshold]))\n",
    "    inv_cdf_with_target = np.concatenate((inv_cdf_with_target[:cutoff], [point]))\n",
    "    \n",
    "    area_under_curve = np.trapz(inv_cdf_with_target, inv_cdf_no_target, )\n",
    "    \n",
    "    # area_under_curve = point*threshold/2\n",
    "    return (area_under_curve - triangle_area)/(threshold - triangle_area)\n",
    "A_value(inv_cdf_no_target,inv_cdf_with_target,0.1)"
   ]
  },
  {
   "cell_type": "code",
   "execution_count": 5,
   "id": "abcdc275-c499-474e-ad39-249fd2b08bf6",
   "metadata": {},
   "outputs": [
    {
     "data": {
      "application/vnd.jupyter.widget-view+json": {
       "model_id": "1c0b4c4a88644b24b866f474bf82e293",
       "version_major": 2,
       "version_minor": 0
      },
      "text/plain": [
       "Canvas(toolbar=Toolbar(toolitems=[('Home', 'Reset original view', 'home', 'home'), ('Back', 'Back to previous …"
      ]
     },
     "metadata": {},
     "output_type": "display_data"
    },
    {
     "data": {
      "text/plain": [
       "[<matplotlib.lines.Line2D at 0x1e99e7e8310>]"
      ]
     },
     "execution_count": 5,
     "metadata": {},
     "output_type": "execute_result"
    }
   ],
   "source": [
    "from matplotlib import pyplot as plt\n",
    "bins = get_shared_bins(1000, clustered_est_no_target, clustered_est_with_target)\n",
    "count_clustered_no_target,bins_clustered_no_target = np.histogram(clustered_est_no_target.reshape(-1,),bins=bins)\n",
    "count_clustered_with_target,bins_clustered_with_target =np.histogram(clustered_est_with_target.reshape(-1,),bins=bins)\n",
    "fig = plt.figure()\n",
    "plt.plot(bins_centers(bins_clustered_no_target), count_clustered_no_target)\n",
    "plt.plot(bins_centers(bins_clustered_with_target), count_clustered_with_target)"
   ]
  },
  {
   "cell_type": "code",
   "execution_count": 7,
   "id": "667059cb-8ebe-452a-b962-99b36891c7c2",
   "metadata": {},
   "outputs": [
    {
     "data": {
      "application/vnd.jupyter.widget-view+json": {
       "model_id": "e3d35fcd184e40d1a2c776494c2e533c",
       "version_major": 2,
       "version_minor": 0
      },
      "text/plain": [
       "Canvas(toolbar=Toolbar(toolitems=[('Home', 'Reset original view', 'home', 'home'), ('Back', 'Back to previous …"
      ]
     },
     "metadata": {},
     "output_type": "display_data"
    },
    {
     "data": {
      "text/plain": [
       "0.48192924781503715"
      ]
     },
     "execution_count": 7,
     "metadata": {},
     "output_type": "execute_result"
    }
   ],
   "source": [
    "from scipy.interpolate import pchip\n",
    "\n",
    "def get_inv_cdf(count, bins):\n",
    "    cdf = np.cumsum(count)/np.sum(count)\n",
    "    return 1 - cdf/cdf[-1]\n",
    "\n",
    "def extend_cdf_range(samples, sample_points, new_sample_points):\n",
    "    out = np.zeros(len(new_sample_points))\n",
    "    current_point_index = 1\n",
    "    current_point = sample_points[current_point_index]\n",
    "    current_sample = samples[current_point_index]\n",
    "    for i, sample_point in enumerate(new_sample_points):\n",
    "        if sample_point >= current_point:\n",
    "            current_point_index += 1\n",
    "        if current_point_index >= len(sample_points):\n",
    "            current_sample = 0\n",
    "        else: \n",
    "            current_sample = samples[current_point_index-1]\n",
    "        out[i] = current_sample\n",
    "    return out\n",
    "\n",
    "inv_cdf_no_target = get_inv_cdf(count_clustered_no_target, bins_clustered_no_target)\n",
    "inv_cdf_with_target = get_inv_cdf(count_clustered_with_target, bins_clustered_with_target)\n",
    "value_range = np.sort(np.concatenate((bins_clustered_no_target,bins_clustered_with_target)))\n",
    "inv_cdf_no_target = extend_cdf_range(inv_cdf_no_target, bins_clustered_no_target, value_range)\n",
    "inv_cdf_with_target = extend_cdf_range(inv_cdf_with_target, bins_clustered_with_target, value_range)\n",
    "plt.figure()\n",
    "line, = plt.plot(inv_cdf_no_target, inv_cdf_with_target)\n",
    "plt.xlim([-0.001,0.1001])\n",
    "plt.ylim([-0.01,1])\n",
    "plt.axline((0,0),(0.1,0.1),color=line.get_color(),linestyle=\"--\")\n",
    "A_value(inv_cdf_no_target,inv_cdf_with_target,0.1)"
   ]
  },
  {
   "cell_type": "code",
   "execution_count": null,
   "id": "04f2bf9d-011d-4037-befd-e8c955105c68",
   "metadata": {},
   "outputs": [],
   "source": []
  }
 ],
 "metadata": {
  "kernelspec": {
   "display_name": "Python 3 (ipykernel)",
   "language": "python",
   "name": "python3"
  },
  "language_info": {
   "codemirror_mode": {
    "name": "ipython",
    "version": 3
   },
   "file_extension": ".py",
   "mimetype": "text/x-python",
   "name": "python",
   "nbconvert_exporter": "python",
   "pygments_lexer": "ipython3",
   "version": "3.9.0"
  }
 },
 "nbformat": 4,
 "nbformat_minor": 5
}
