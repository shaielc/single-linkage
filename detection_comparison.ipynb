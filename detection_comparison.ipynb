{
 "cells": [
  {
   "cell_type": "code",
   "execution_count": 5,
   "id": "2463c7a7-33eb-4164-8f08-274b0e269289",
   "metadata": {},
   "outputs": [
    {
     "name": "stderr",
     "output_type": "stream",
     "text": [
      "C:\\Users\\Shaiel Cohen\\AppData\\Local\\Temp\\ipykernel_25820\\1841775795.py:29: NumbaPerformanceWarning: \u001b[1m\u001b[1m'@' is faster on contiguous arrays, called on (Array(float64, 1, 'A', False, aligned=True), Array(float64, 1, 'C', False, aligned=True))\u001b[0m\u001b[0m\n",
      "  est[i,j] = t @ (phi_inv @ (pixel - M[i,j]))\n"
     ]
    }
   ],
   "source": [
    "%matplotlib widget\n",
    "from scipy.signal import convolve\n",
    "from process_cube.dat import read_dat_file, Header\n",
    "import numpy as np\n",
    "from tqdm.notebook import tqdm\n",
    "import numba\n",
    "\n",
    "def neighbour_mean(x):\n",
    "    kernel = np.ones((3,3))\n",
    "    kernel[1,1] =0\n",
    "    kernel = kernel[...,np.newaxis]\n",
    "    out = convolve(x, kernel,\"same\")\n",
    "    out[0,0]/=3\n",
    "    out[-1,-1]/=3\n",
    "    out[-1,0]/=3\n",
    "    out[0,-1]/=3\n",
    "    out[0,1:-1]/=5\n",
    "    out[-1,1:-1]/=5\n",
    "    out[1:-1,0]/=5\n",
    "    out[1:-1,-1]/=5\n",
    "    out[1:-1,1:-1]/=8\n",
    "    return out\n",
    "\n",
    "@numba.njit\n",
    "def estimation(t,phi_inv, data, M):\n",
    "    est = np.zeros(data.shape[:2])\n",
    "    for i,row in enumerate(data):\n",
    "        for j,pixel in enumerate(row):\n",
    "            est[i,j] = t @ (phi_inv @ (pixel - M[i,j]))\n",
    "    return est\n",
    "\n",
    "def covariance_matrix(x):\n",
    "    covariance = np.zeros((x.shape[-1], x.shape[-1]))\n",
    "    for i,row in enumerate(x):\n",
    "        for j,pixel in enumerate(row):\n",
    "            covariance += pixel.reshape(-1,1) * pixel.reshape(1,-1)\n",
    "            \n",
    "    return covariance/x.shape[0]/x.shape[1]\n",
    "\n",
    "def bins_centers(bins):\n",
    "    return (bins[:-1] + bins[1:])/2\n",
    "\n",
    "def get_shared_bins(count, *args):\n",
    "    low = np.min(args)\n",
    "    high = np.max(args)\n",
    "    return np.linspace(low, high, count+1)\n",
    "\n",
    "def original_algorithm(data, p, t):\n",
    "    M = neighbour_mean(data)\n",
    "    data_tag = data + p*t\n",
    "    phi = covariance_matrix(data-M)\n",
    "    phi_inv = np.linalg.inv(phi)\n",
    "    est_no_target = estimation(t,phi_inv, data, M)\n",
    "    est_with_target = estimation(t,phi_inv, data_tag, M)\n",
    "    return est_no_target, est_with_target\n",
    "\n",
    "header = Header.read_header(\"self_test_rad.hdr\")\n",
    "img = read_dat_file(\"self_test_rad.img\", header).astype(np.float64)\n",
    "p = 0.02\n",
    "t = img[60,70,:]\n",
    "no_target, with_target= original_algorithm(img, p, t)"
   ]
  },
  {
   "cell_type": "code",
   "execution_count": 6,
   "id": "0be45b14-d0f4-4bcd-bf7b-1eca48c8ab46",
   "metadata": {},
   "outputs": [
    {
     "data": {
      "application/json": {
       "ascii": false,
       "bar_format": null,
       "colour": null,
       "elapsed": 0.004027605056762695,
       "initial": 0,
       "n": 0,
       "ncols": null,
       "nrows": null,
       "postfix": null,
       "prefix": "",
       "rate": null,
       "total": 7,
       "unit": "it",
       "unit_divisor": 1000,
       "unit_scale": false
      },
      "application/vnd.jupyter.widget-view+json": {
       "model_id": "267de90fb06c4a548487a6bbcb3409ca",
       "version_major": 2,
       "version_minor": 0
      },
      "text/plain": [
       "  0%|          | 0/7 [00:00<?, ?it/s]"
      ]
     },
     "metadata": {},
     "output_type": "display_data"
    }
   ],
   "source": [
    "import json\n",
    "from tqdm.notebook import tqdm\n",
    "\n",
    "@numba.njit\n",
    "def clustered_estimation(t, data, M, clustered_image, clusters_covariance):\n",
    "    est = np.zeros(data.shape[:2])\n",
    "    for i,row in enumerate(data):\n",
    "        for j,pixel in enumerate(row):\n",
    "            k = clustered_image[i,j]\n",
    "            est[i,j] = t @ (clusters_covariance[k] @ (pixel - M[i,j]))\n",
    "    return est\n",
    "\n",
    "def clustered_algorithm(data, p, t, clustered_image):\n",
    "    M = neighbour_mean(data)\n",
    "    data_tag = data + p*t\n",
    "    clusters_covariance = np.array([np.linalg.inv(covariance_matrix((data-M)[clustered_image == k][np.newaxis])) for k in tqdm(range(len(cluster_names)))])\n",
    "    est_no_target = clustered_estimation(t, data, M, clustered_image, clusters_covariance)\n",
    "    est_with_target = clustered_estimation(t, data_tag, M, clustered_image, clusters_covariance)\n",
    "    return est_no_target, est_with_target\n",
    "\n",
    "# Read clusters\n",
    "with open(\"clusters.json\") as f:\n",
    "    clusters = json.load(f)\n",
    "\n",
    "clusters_indexes = {tuple(cluster[\"name\"]): cluster[\"cluster\"] for cluster in clusters.values()}\n",
    "cluster_names = list(clusters_indexes.keys())\n",
    "clusters_pixel_index = list(clusters_indexes.values())\n",
    "clustered_image = np.zeros((img.shape[0], img.shape[1]), dtype=int)\n",
    "\n",
    "for k, cluster_pixel_index in enumerate(clusters_pixel_index):\n",
    "    for i,j in cluster_pixel_index:\n",
    "        clustered_image[i,j] = k\n",
    "\n",
    "clustered_est_no_target, clustered_est_with_target = clustered_algorithm(img, p, t, clustered_image)"
   ]
  },
  {
   "cell_type": "code",
   "execution_count": 7,
   "id": "a018a53f-bef6-4d87-a4c3-d5a9771e1abd",
   "metadata": {},
   "outputs": [
    {
     "data": {
      "application/vnd.jupyter.widget-view+json": {
       "model_id": "139035604b0b4da792257cfbd271cb93",
       "version_major": 2,
       "version_minor": 0
      },
      "text/plain": [
       "Canvas(toolbar=Toolbar(toolitems=[('Home', 'Reset original view', 'home', 'home'), ('Back', 'Back to previous …"
      ]
     },
     "metadata": {},
     "output_type": "display_data"
    },
    {
     "data": {
      "text/plain": [
       "<matplotlib.legend.Legend at 0x1611ede3c70>"
      ]
     },
     "execution_count": 7,
     "metadata": {},
     "output_type": "execute_result"
    }
   ],
   "source": [
    "\n",
    "from matplotlib import pyplot as plt\n",
    "def get_shared_bins(count, *args):\n",
    "    low = np.min(args)\n",
    "    high = np.max(args)\n",
    "    return np.linspace(low, high, count+1)\n",
    "no_target, with_target= original_algorithm(img, p, t)\n",
    "bins = get_shared_bins(1000, no_target, with_target)\n",
    "count_no_target,bins_no_target = np.histogram(no_target.reshape(-1,),bins=bins)\n",
    "count_with_target,bins_with_target =np.histogram(with_target.reshape(-1,),bins=bins)\n",
    "fig = plt.figure()\n",
    "plt.plot(bins_centers(bins_no_target), count_no_target)\n",
    "plt.plot(bins_centers(bins_with_target), count_with_target)\n",
    "plt.legend([\"no-target\", \"with-target\"])"
   ]
  },
  {
   "cell_type": "code",
   "execution_count": 8,
   "id": "0600e17f-ea22-4b92-81ca-fe4efc917d64",
   "metadata": {},
   "outputs": [
    {
     "data": {
      "application/vnd.jupyter.widget-view+json": {
       "model_id": "761c92636e034d938419214755ead361",
       "version_major": 2,
       "version_minor": 0
      },
      "text/plain": [
       "Canvas(toolbar=Toolbar(toolitems=[('Home', 'Reset original view', 'home', 'home'), ('Back', 'Back to previous …"
      ]
     },
     "metadata": {},
     "output_type": "display_data"
    },
    {
     "data": {
      "text/plain": [
       "(0.5615507030135164,\n",
       " 0.298703661129998,\n",
       " 0.022727917632725466,\n",
       " 0.001157556217522073)"
      ]
     },
     "execution_count": 8,
     "metadata": {},
     "output_type": "execute_result"
    }
   ],
   "source": [
    "from scipy.interpolate import pchip\n",
    "\n",
    "def get_inv_cdf(count, bins):\n",
    "    cdf = np.cumsum(count)/np.sum(count)\n",
    "    return 1 - cdf/cdf[-1]\n",
    "\n",
    "def extend_cdf_range(samples, sample_points, new_sample_points):\n",
    "    out = np.zeros(len(new_sample_points))\n",
    "    current_point_index = 1\n",
    "    current_point = sample_points[current_point_index]\n",
    "    current_sample = samples[current_point_index]\n",
    "    for i, sample_point in enumerate(new_sample_points):\n",
    "        if sample_point >= current_point:\n",
    "            current_point_index += 1\n",
    "        if current_point_index >= len(sample_points):\n",
    "            current_sample = 0\n",
    "        else: \n",
    "            current_sample = samples[current_point_index-1]\n",
    "        out[i] = current_sample\n",
    "    return out\n",
    "\n",
    "inv_cdf_no_target = get_inv_cdf(count_no_target, bins_no_target)\n",
    "inv_cdf_with_target = get_inv_cdf(count_with_target, bins_no_target)\n",
    "value_range = np.sort(np.concatenate((bins_no_target,bins_with_target)))\n",
    "inv_cdf_no_target = extend_cdf_range(inv_cdf_no_target, bins_no_target, value_range)\n",
    "inv_cdf_with_target = extend_cdf_range(inv_cdf_with_target, bins_with_target, value_range)\n",
    "plt.figure()\n",
    "line, = plt.plot(inv_cdf_no_target, inv_cdf_with_target)\n",
    "plt.xlim([-0.001,0.1001])\n",
    "plt.ylim([-0.01,1])\n",
    "plt.axline((0,0),(0.1,0.1),color=line.get_color(),linestyle=\"--\")\n",
    "plt.ylabel(\"P-TP\")\n",
    "plt.xlabel(\"P-FP\")\n",
    "\n",
    "def lin_interp(x1,y1,x2,y2,x):\n",
    "    m = (y2-y1)/(x2-x1)\n",
    "    n = y1\n",
    "    return m*(x-x1) + n\n",
    "def A_value(inv_cdf_no_target, inv_cdf_with_target, threshold):\n",
    "    inv_cdf_no_target = inv_cdf_no_target[::-1]\n",
    "    inv_cdf_with_target = inv_cdf_with_target[::-1]\n",
    "    triangle_area = 0.5 * threshold**2\n",
    "    cutoff = np.argmax(inv_cdf_no_target > threshold)-1\n",
    "    cutoff = np.max([0,cutoff])\n",
    "    \n",
    "    point = lin_interp(\n",
    "        inv_cdf_no_target[cutoff],\n",
    "        inv_cdf_with_target[cutoff],\n",
    "        inv_cdf_no_target[cutoff+1],\n",
    "        inv_cdf_with_target[cutoff+1],\n",
    "        threshold\n",
    "    )\n",
    "    inv_cdf_no_target = np.concatenate((inv_cdf_no_target[:cutoff], [threshold]))\n",
    "    inv_cdf_with_target = np.concatenate((inv_cdf_with_target[:cutoff], [point]))\n",
    "    \n",
    "    area_under_curve = np.trapz(inv_cdf_with_target, inv_cdf_no_target, )\n",
    "    \n",
    "    # area_under_curve = point*threshold/2\n",
    "    return (area_under_curve - triangle_area)/(threshold - triangle_area)\n",
    "A_value(inv_cdf_no_target,inv_cdf_with_target,0.3), A_value(inv_cdf_no_target,inv_cdf_with_target,0.1),A_value(inv_cdf_no_target,inv_cdf_with_target,0.01), A_value(inv_cdf_no_target,inv_cdf_with_target,0.001)"
   ]
  },
  {
   "cell_type": "code",
   "execution_count": 9,
   "id": "abcdc275-c499-474e-ad39-249fd2b08bf6",
   "metadata": {},
   "outputs": [
    {
     "data": {
      "application/vnd.jupyter.widget-view+json": {
       "model_id": "5ad03bdc31af4684b6c3c437170da197",
       "version_major": 2,
       "version_minor": 0
      },
      "text/plain": [
       "Canvas(toolbar=Toolbar(toolitems=[('Home', 'Reset original view', 'home', 'home'), ('Back', 'Back to previous …"
      ]
     },
     "metadata": {},
     "output_type": "display_data"
    },
    {
     "data": {
      "text/plain": [
       "<matplotlib.legend.Legend at 0x1611ec05760>"
      ]
     },
     "execution_count": 9,
     "metadata": {},
     "output_type": "execute_result"
    }
   ],
   "source": [
    "from matplotlib import pyplot as plt\n",
    "bins = get_shared_bins(1000, clustered_est_no_target, clustered_est_with_target)\n",
    "count_clustered_no_target,bins_clustered_no_target = np.histogram(clustered_est_no_target.reshape(-1,),bins=bins)\n",
    "count_clustered_with_target,bins_clustered_with_target =np.histogram(clustered_est_with_target.reshape(-1,),bins=bins)\n",
    "fig = plt.figure()\n",
    "plt.plot(bins_centers(bins_clustered_no_target), count_clustered_no_target, zorder=1)\n",
    "plt.plot(bins_centers(bins_clustered_with_target), count_clustered_with_target, zorder=3)\n",
    "plt.plot(bins_centers(bins_with_target), count_with_target, c=\"k\", ls=\"--\", zorder=2)\n",
    "plt.legend([\"clustered-no-target\", \"clustered-with-target\", \"not-clustered-with-target\"])"
   ]
  },
  {
   "cell_type": "code",
   "execution_count": 10,
   "id": "0d14dd92-7dbb-4ff2-ab94-1330906d944c",
   "metadata": {},
   "outputs": [
    {
     "data": {
      "application/vnd.jupyter.widget-view+json": {
       "model_id": "fea8c64dfaa54cf5b6ea63f09c1dc00e",
       "version_major": 2,
       "version_minor": 0
      },
      "text/plain": [
       "Canvas(toolbar=Toolbar(toolitems=[('Home', 'Reset original view', 'home', 'home'), ('Back', 'Back to previous …"
      ]
     },
     "metadata": {},
     "output_type": "display_data"
    },
    {
     "data": {
      "text/plain": [
       "[<matplotlib.lines.Line2D at 0x1611ec5efa0>]"
      ]
     },
     "execution_count": 10,
     "metadata": {},
     "output_type": "execute_result"
    }
   ],
   "source": [
    "plt.figure()\n",
    "plt.plot(inv_cdf_no_target, inv_cdf_with_target, ls=\"--\", c=\"k\")"
   ]
  },
  {
   "cell_type": "code",
   "execution_count": 11,
   "id": "667059cb-8ebe-452a-b962-99b36891c7c2",
   "metadata": {},
   "outputs": [
    {
     "data": {
      "text/plain": [
       "(0.6798230905567975,\n",
       " 0.48192924781503715,\n",
       " 0.12356610473963439,\n",
       " 0.016706094995839846)"
      ]
     },
     "execution_count": 11,
     "metadata": {},
     "output_type": "execute_result"
    }
   ],
   "source": [
    "from scipy.interpolate import pchip\n",
    "\n",
    "def get_inv_cdf(count, bins):\n",
    "    cdf = np.cumsum(count)/np.sum(count)\n",
    "    return 1 - cdf/cdf[-1]\n",
    "\n",
    "def extend_cdf_range(samples, sample_points, new_sample_points):\n",
    "    out = np.zeros(len(new_sample_points))\n",
    "    current_point_index = 1\n",
    "    current_point = sample_points[current_point_index]\n",
    "    current_sample = samples[current_point_index]\n",
    "    for i, sample_point in enumerate(new_sample_points):\n",
    "        if sample_point >= current_point:\n",
    "            current_point_index += 1\n",
    "        if current_point_index >= len(sample_points):\n",
    "            current_sample = 0\n",
    "        else: \n",
    "            current_sample = samples[current_point_index-1]\n",
    "        out[i] = current_sample\n",
    "    return out\n",
    "\n",
    "inv_cdf_no_target = get_inv_cdf(count_clustered_no_target, bins_clustered_no_target)\n",
    "inv_cdf_with_target = get_inv_cdf(count_clustered_with_target, bins_clustered_with_target)\n",
    "value_range = np.sort(np.concatenate((bins_clustered_no_target,bins_clustered_with_target)))\n",
    "inv_cdf_no_target = extend_cdf_range(inv_cdf_no_target, bins_clustered_no_target, value_range)\n",
    "inv_cdf_with_target = extend_cdf_range(inv_cdf_with_target, bins_clustered_with_target, value_range)\n",
    "\n",
    "line, = plt.plot(inv_cdf_no_target, inv_cdf_with_target)\n",
    "plt.xlim([-0.001,0.1001])\n",
    "plt.ylim([-0.01,1])\n",
    "plt.axline((0,0),(0.1,0.1),color=line.get_color(),linestyle=\"--\")\n",
    "A_value(inv_cdf_no_target,inv_cdf_with_target,0.3), A_value(inv_cdf_no_target,inv_cdf_with_target,0.1),A_value(inv_cdf_no_target,inv_cdf_with_target,0.01), A_value(inv_cdf_no_target,inv_cdf_with_target,0.001)"
   ]
  },
  {
   "cell_type": "code",
   "execution_count": 12,
   "id": "04f2bf9d-011d-4037-befd-e8c955105c68",
   "metadata": {},
   "outputs": [
    {
     "data": {
      "text/plain": [
       "<matplotlib.legend.Legend at 0x1611ed8d340>"
      ]
     },
     "execution_count": 12,
     "metadata": {},
     "output_type": "execute_result"
    }
   ],
   "source": [
    "plt.legend([\"non-clustered\",\"clustered\", \"diagonal reference\"])"
   ]
  },
  {
   "cell_type": "code",
   "execution_count": 13,
   "id": "a764a50f-2679-42b1-9705-562cd0d5c1c8",
   "metadata": {},
   "outputs": [
    {
     "data": {
      "text/plain": [
       "(7, 126)"
      ]
     },
     "execution_count": 13,
     "metadata": {},
     "output_type": "execute_result"
    }
   ],
   "source": [
    "# M = neighbour_mean(img)\n",
    "# norms = np.linalg.norm(img - M,axis=-1).reshape(-1,)\n",
    "# targets = np.array([60*img.shape[1] + 70, norms.argmin(), norms.argmax(), 219*img.shape[1] + 187])\n",
    "# # targets = np.random.choice(img.shape[0]*img.shape[1], size=5)\n",
    "# targets = np.unravel_index(targets,img.shape[:2])\n",
    "# targets = img[targets]\n",
    "targets=np.zeros((7,126))\n",
    "for i in range(7):\n",
    "    targets[i] = img[clustered_image == i].mean(0)\n",
    "targets.shape"
   ]
  },
  {
   "cell_type": "code",
   "execution_count": null,
   "id": "eb0d4a58-5c19-40ef-a38a-3efb112bf2f9",
   "metadata": {},
   "outputs": [],
   "source": []
  },
  {
   "cell_type": "code",
   "execution_count": 17,
   "id": "18eb137f-8182-4f04-a0e4-2fb0be7d1d77",
   "metadata": {},
   "outputs": [
    {
     "data": {
      "application/vnd.jupyter.widget-view+json": {
       "model_id": "643d5f4ab1af432cb70e3d04e15b1ba2",
       "version_major": 2,
       "version_minor": 0
      },
      "text/plain": [
       "Canvas(toolbar=Toolbar(toolitems=[('Home', 'Reset original view', 'home', 'home'), ('Back', 'Back to previous …"
      ]
     },
     "metadata": {},
     "output_type": "display_data"
    },
    {
     "data": {
      "application/vnd.jupyter.widget-view+json": {
       "model_id": "b45a6aff4e764bcebd18f633ebcf202a",
       "version_major": 2,
       "version_minor": 0
      },
      "text/plain": [
       "Canvas(toolbar=Toolbar(toolitems=[('Home', 'Reset original view', 'home', 'home'), ('Back', 'Back to previous …"
      ]
     },
     "metadata": {},
     "output_type": "display_data"
    },
    {
     "data": {
      "application/json": {
       "ascii": false,
       "bar_format": null,
       "colour": null,
       "elapsed": 0.0049974918365478516,
       "initial": 0,
       "n": 0,
       "ncols": null,
       "nrows": null,
       "postfix": null,
       "prefix": "",
       "rate": null,
       "total": 7,
       "unit": "it",
       "unit_divisor": 1000,
       "unit_scale": false
      },
      "application/vnd.jupyter.widget-view+json": {
       "model_id": "6e4a9c829cfe442eb22234b227922411",
       "version_major": 2,
       "version_minor": 0
      },
      "text/plain": [
       "  0%|          | 0/7 [00:00<?, ?it/s]"
      ]
     },
     "metadata": {},
     "output_type": "display_data"
    },
    {
     "name": "stdout",
     "output_type": "stream",
     "text": [
      "A-GMF-1 0.4114637272591318 0.1840842481696429 0.01296716427037264 0.00042644189601177157\n",
      "A-GMF-2 0.208860866669289 0.08226183391396266 0.004383461672200277 0.00011572072707272242\n",
      "A-GMF-3 0.49110458699779214 0.21830677297612075 0.011718470581542902 0.0006219328573725649\n",
      "A-GMF-4 0.3355974168538281 0.14082053476345244 0.009809750835792842 0.0002542675594812774\n",
      "A-GMF-5 0.740469262764124 0.4888989531783192 0.011634252456478783 0.0005666836128523422\n",
      "A-GMF-6 0.3110224958204306 0.1262121185677593 0.008351434198765132 0.00020078256147024282\n",
      "A-GMF-7 0.3372336040983206 0.13457607044062603 0.0075367739203051525 0.00015901576653851808\n"
     ]
    }
   ],
   "source": [
    "fig, axes = plt.subplots((len(targets)+1)//2,2)\n",
    "fig = plt.figure()\n",
    "roc_axes = fig.gca()\n",
    "roc_colors = [None]*len(targets)\n",
    "# t = img[60,70]\n",
    "# no_target, with_target= original_algorithm(img, p, t)\n",
    "# bins = get_shared_bins(1000, no_target, with_target)\n",
    "# count_no_target,bins_no_target = np.histogram(no_target.reshape(-1,),bins=bins)\n",
    "# count_with_target,bins_with_target =np.histogram(with_target.reshape(-1,),bins=bins)\n",
    "# no_target_line, = axes[0,0].plot(bins_centers(bins_no_target), count_no_target,ls=\"--\")\n",
    "# with_target_line, = axes[0,0].plot(bins_centers(bins_with_target), count_with_target,ls=\"--\")\n",
    "\n",
    "# no_target_color= no_target_line.get_color()\n",
    "# with_target_color= with_target_line.get_color()\n",
    "\n",
    "# inv_cdf_no_target = get_inv_cdf(count_no_target, bins_no_target)\n",
    "# inv_cdf_with_target = get_inv_cdf(count_with_target, bins_with_target)\n",
    "# value_range = np.sort(np.concatenate((bins_no_target,bins_with_target)))\n",
    "# inv_cdf_no_target = extend_cdf_range(inv_cdf_no_target, bins_no_target, value_range)\n",
    "# inv_cdf_with_target = extend_cdf_range(inv_cdf_with_target, bins_with_target, value_range)\n",
    "# roc_line, = roc_axes.plot(inv_cdf_no_target, inv_cdf_with_target, ls=\"--\")\n",
    "# roc_colors[0] = roc_line.get_color()\n",
    "\n",
    "# print(\"A-GMF-0\", A_value(inv_cdf_no_target,inv_cdf_with_target,0.3), A_value(inv_cdf_no_target,inv_cdf_with_target,0.1),A_value(inv_cdf_no_target,inv_cdf_with_target,0.01), A_value(inv_cdf_no_target,inv_cdf_with_target,0.001))\n",
    "\n",
    "for i,t in enumerate(tqdm(targets)):    \n",
    "    no_target, with_target = original_algorithm(img, p, t)\n",
    "    bins = get_shared_bins(1000, no_target, with_target)\n",
    "    count_with_target,bins_with_target =np.histogram(with_target.reshape(-1,),bins=bins)\n",
    "    count_no_target,bins_no_target = np.histogram(no_target.reshape(-1,),bins=bins)\n",
    "    ax = axes[(i)//2,(i)%2]\n",
    "    temp, = ax.plot(bins_centers(bins_no_target), count_no_target,ls=\"--\")\n",
    "    no_target_color = temp.get_color()\n",
    "    temp, = ax.plot(bins_centers(bins_with_target), count_with_target,ls=\"--\")\n",
    "    with_target_color = temp.get_color()\n",
    "    ax.set_title(\"Target #%d\" % (i+1))\n",
    "    \n",
    "    \n",
    "    inv_cdf_no_target = get_inv_cdf(count_no_target, bins_no_target)\n",
    "    inv_cdf_with_target = get_inv_cdf(count_with_target, bins_with_target)\n",
    "    value_range = np.sort(np.concatenate((bins_no_target,bins_with_target)))\n",
    "    inv_cdf_no_target = extend_cdf_range(inv_cdf_no_target, bins_no_target, value_range)\n",
    "    inv_cdf_with_target = extend_cdf_range(inv_cdf_with_target, bins_with_target, value_range)\n",
    "\n",
    "    roc_line, = roc_axes.plot(inv_cdf_no_target, inv_cdf_with_target, ls=\"--\")\n",
    "    roc_colors[i] = roc_line.get_color()\n",
    "    print(\"A-GMF-%d\" % (i+1), A_value(inv_cdf_no_target,inv_cdf_with_target,0.3), A_value(inv_cdf_no_target,inv_cdf_with_target,0.1),A_value(inv_cdf_no_target,inv_cdf_with_target,0.01), A_value(inv_cdf_no_target,inv_cdf_with_target,0.001))"
   ]
  },
  {
   "cell_type": "code",
   "execution_count": 18,
   "id": "d1af0a47-0271-4e23-869f-e0a85233c118",
   "metadata": {},
   "outputs": [
    {
     "data": {
      "application/json": {
       "ascii": false,
       "bar_format": null,
       "colour": null,
       "elapsed": 0.004998683929443359,
       "initial": 0,
       "n": 0,
       "ncols": null,
       "nrows": null,
       "postfix": null,
       "prefix": "",
       "rate": null,
       "total": 7,
       "unit": "it",
       "unit_divisor": 1000,
       "unit_scale": false
      },
      "application/vnd.jupyter.widget-view+json": {
       "model_id": "9537eb5ccb12431e856fee77eb0602d2",
       "version_major": 2,
       "version_minor": 0
      },
      "text/plain": [
       "  0%|          | 0/7 [00:00<?, ?it/s]"
      ]
     },
     "metadata": {},
     "output_type": "display_data"
    },
    {
     "data": {
      "application/json": {
       "ascii": false,
       "bar_format": null,
       "colour": null,
       "elapsed": 0.0050029754638671875,
       "initial": 0,
       "n": 0,
       "ncols": null,
       "nrows": null,
       "postfix": null,
       "prefix": "",
       "rate": null,
       "total": 7,
       "unit": "it",
       "unit_divisor": 1000,
       "unit_scale": false
      },
      "application/vnd.jupyter.widget-view+json": {
       "model_id": "7bdbe2a060964f9e9e15a9863b51bf2b",
       "version_major": 2,
       "version_minor": 0
      },
      "text/plain": [
       "  0%|          | 0/7 [00:00<?, ?it/s]"
      ]
     },
     "metadata": {},
     "output_type": "display_data"
    },
    {
     "name": "stdout",
     "output_type": "stream",
     "text": [
      "A-SMF-0 0.5975260944709283 0.4197713728291413 0.09796697260953668 0.011933967345476134\n"
     ]
    },
    {
     "data": {
      "application/json": {
       "ascii": false,
       "bar_format": null,
       "colour": null,
       "elapsed": 0.006998777389526367,
       "initial": 0,
       "n": 0,
       "ncols": null,
       "nrows": null,
       "postfix": null,
       "prefix": "",
       "rate": null,
       "total": 7,
       "unit": "it",
       "unit_divisor": 1000,
       "unit_scale": false
      },
      "application/vnd.jupyter.widget-view+json": {
       "model_id": "312d23f7a1dc49f5ba979f356fd144bc",
       "version_major": 2,
       "version_minor": 0
      },
      "text/plain": [
       "  0%|          | 0/7 [00:00<?, ?it/s]"
      ]
     },
     "metadata": {},
     "output_type": "display_data"
    },
    {
     "name": "stdout",
     "output_type": "stream",
     "text": [
      "A-SMF-1 0.40504618458893227 0.24167772401044518 0.03204669953722701 0.001468811061416291\n"
     ]
    },
    {
     "data": {
      "application/json": {
       "ascii": false,
       "bar_format": null,
       "colour": null,
       "elapsed": 0.003998994827270508,
       "initial": 0,
       "n": 0,
       "ncols": null,
       "nrows": null,
       "postfix": null,
       "prefix": "",
       "rate": null,
       "total": 7,
       "unit": "it",
       "unit_divisor": 1000,
       "unit_scale": false
      },
      "application/vnd.jupyter.widget-view+json": {
       "model_id": "123deced8a5944f8a0502c2930b0da3d",
       "version_major": 2,
       "version_minor": 0
      },
      "text/plain": [
       "  0%|          | 0/7 [00:00<?, ?it/s]"
      ]
     },
     "metadata": {},
     "output_type": "display_data"
    },
    {
     "name": "stdout",
     "output_type": "stream",
     "text": [
      "A-SMF-2 0.625668682898064 0.4830727077063503 0.15658763189299732 0.01437229097648318\n"
     ]
    },
    {
     "data": {
      "application/json": {
       "ascii": false,
       "bar_format": null,
       "colour": null,
       "elapsed": 0.004029512405395508,
       "initial": 0,
       "n": 0,
       "ncols": null,
       "nrows": null,
       "postfix": null,
       "prefix": "",
       "rate": null,
       "total": 7,
       "unit": "it",
       "unit_divisor": 1000,
       "unit_scale": false
      },
      "application/vnd.jupyter.widget-view+json": {
       "model_id": "adead464ed8c4c1abc47508a5c6aeaf9",
       "version_major": 2,
       "version_minor": 0
      },
      "text/plain": [
       "  0%|          | 0/7 [00:00<?, ?it/s]"
      ]
     },
     "metadata": {},
     "output_type": "display_data"
    },
    {
     "name": "stdout",
     "output_type": "stream",
     "text": [
      "A-SMF-3 0.5427044756596149 0.36574850911484713 0.07105068270241534 0.009000804321455617\n"
     ]
    },
    {
     "data": {
      "application/json": {
       "ascii": false,
       "bar_format": null,
       "colour": null,
       "elapsed": 0.004021644592285156,
       "initial": 0,
       "n": 0,
       "ncols": null,
       "nrows": null,
       "postfix": null,
       "prefix": "",
       "rate": null,
       "total": 7,
       "unit": "it",
       "unit_divisor": 1000,
       "unit_scale": false
      },
      "application/vnd.jupyter.widget-view+json": {
       "model_id": "23713abcc73c4dbda47d4dcc9eaa0371",
       "version_major": 2,
       "version_minor": 0
      },
      "text/plain": [
       "  0%|          | 0/7 [00:00<?, ?it/s]"
      ]
     },
     "metadata": {},
     "output_type": "display_data"
    },
    {
     "name": "stdout",
     "output_type": "stream",
     "text": [
      "A-SMF-4 0.7625850096960478 0.664155890288457 0.5343290884483941 0.40489518582101647\n"
     ]
    },
    {
     "data": {
      "application/json": {
       "ascii": false,
       "bar_format": null,
       "colour": null,
       "elapsed": 0.00500035285949707,
       "initial": 0,
       "n": 0,
       "ncols": null,
       "nrows": null,
       "postfix": null,
       "prefix": "",
       "rate": null,
       "total": 7,
       "unit": "it",
       "unit_divisor": 1000,
       "unit_scale": false
      },
      "application/vnd.jupyter.widget-view+json": {
       "model_id": "405f30eb736342aab6aba529cc9c8002",
       "version_major": 2,
       "version_minor": 0
      },
      "text/plain": [
       "  0%|          | 0/7 [00:00<?, ?it/s]"
      ]
     },
     "metadata": {},
     "output_type": "display_data"
    },
    {
     "name": "stdout",
     "output_type": "stream",
     "text": [
      "A-SMF-5 0.5421229252825327 0.3761921938235064 0.0793590501134498 0.009780790476950756\n"
     ]
    },
    {
     "data": {
      "application/json": {
       "ascii": false,
       "bar_format": null,
       "colour": null,
       "elapsed": 0.003967761993408203,
       "initial": 0,
       "n": 0,
       "ncols": null,
       "nrows": null,
       "postfix": null,
       "prefix": "",
       "rate": null,
       "total": 7,
       "unit": "it",
       "unit_divisor": 1000,
       "unit_scale": false
      },
      "application/vnd.jupyter.widget-view+json": {
       "model_id": "a4c0e07f23c041cc8d17b24c5df8a456",
       "version_major": 2,
       "version_minor": 0
      },
      "text/plain": [
       "  0%|          | 0/7 [00:00<?, ?it/s]"
      ]
     },
     "metadata": {},
     "output_type": "display_data"
    },
    {
     "name": "stdout",
     "output_type": "stream",
     "text": [
      "A-SMF-6 0.6205929535665651 0.4905647279920949 0.18263551881504564 0.01686036636781376\n"
     ]
    }
   ],
   "source": [
    "# t = img[60,70]\n",
    "# no_target, with_target= clustered_algorithm(img, p, t, clustered_image)\n",
    "# bins = get_shared_bins(1000, no_target, with_target)\n",
    "# count_no_target,bins_no_target = np.histogram(no_target.reshape(-1,),bins=bins)\n",
    "# count_with_target,bins_with_target =np.histogram(with_target.reshape(-1,),bins=bins)\n",
    "# axes[0,0].plot(bins_centers(bins_no_target), count_no_target, c=no_target_color)\n",
    "# axes[0,0].plot(bins_centers(bins_with_target), count_with_target, c=with_target_color)\n",
    "\n",
    "# inv_cdf_no_target = get_inv_cdf(count_no_target, bins_no_target)\n",
    "# inv_cdf_with_target = get_inv_cdf(count_with_target, bins_with_target)\n",
    "# value_range = np.sort(np.concatenate((bins_no_target,bins_with_target)))\n",
    "# inv_cdf_no_target = extend_cdf_range(inv_cdf_no_target, bins_no_target, value_range)\n",
    "# inv_cdf_with_target = extend_cdf_range(inv_cdf_with_target, bins_with_target, value_range)\n",
    "# roc_axes.plot(inv_cdf_no_target, inv_cdf_with_target, c=roc_colors[0])\n",
    "# print(\"A-SMF-%d\" % (0), A_value(inv_cdf_no_target,inv_cdf_with_target,0.3), A_value(inv_cdf_no_target,inv_cdf_with_target,0.1),A_value(inv_cdf_no_target,inv_cdf_with_target,0.01), A_value(inv_cdf_no_target,inv_cdf_with_target,0.001))\n",
    "\n",
    "for i,t in enumerate(tqdm(targets)):\n",
    "    no_target, with_target= clustered_algorithm(img, p, t, clustered_image)\n",
    "    bins = get_shared_bins(1000, no_target, with_target)\n",
    "    count_no_target,bins_no_target = np.histogram(no_target.reshape(-1,),bins=bins)\n",
    "    count_with_target,bins_with_target =np.histogram(with_target.reshape(-1,),bins=bins)\n",
    "    axes[(i)//2,(i)%2].plot(bins_centers(bins_no_target), count_no_target, c=no_target_color)\n",
    "    axes[(i)//2,(i)%2].plot(bins_centers(bins_with_target), count_with_target, c=with_target_color)\n",
    "    \n",
    "    inv_cdf_no_target = get_inv_cdf(count_no_target, bins_no_target)\n",
    "    inv_cdf_with_target = get_inv_cdf(count_with_target, bins_with_target)\n",
    "    value_range = np.sort(np.concatenate((bins_no_target,bins_with_target)))\n",
    "    inv_cdf_no_target = extend_cdf_range(inv_cdf_no_target, bins_no_target, value_range)\n",
    "    inv_cdf_with_target = extend_cdf_range(inv_cdf_with_target, bins_with_target, value_range)\n",
    "    roc_axes.plot(inv_cdf_no_target, inv_cdf_with_target, c=roc_colors[i])\n",
    "    print(\"A-SMF-%d\" % (i), A_value(inv_cdf_no_target,inv_cdf_with_target,0.3), A_value(inv_cdf_no_target,inv_cdf_with_target,0.1),A_value(inv_cdf_no_target,inv_cdf_with_target,0.01), A_value(inv_cdf_no_target,inv_cdf_with_target,0.001))"
   ]
  },
  {
   "cell_type": "code",
   "execution_count": 194,
   "id": "41a22b5d-cbb0-4221-bce7-afd81a6c3fc4",
   "metadata": {},
   "outputs": [
    {
     "data": {
      "text/plain": [
       "<matplotlib.legend.Legend at 0x1e9a9910e80>"
      ]
     },
     "execution_count": 194,
     "metadata": {},
     "output_type": "execute_result"
    }
   ],
   "source": [
    "roc_axes.legend([\"GMF-\"+t for t in [\"t%d\"%(i+1) for i in range(len(targets))]] + [\"SMF-\"+t for t in [\"t%d\"%(i+1) for i in range(len(targets))]])"
   ]
  },
  {
   "cell_type": "code",
   "execution_count": 183,
   "id": "3240cb8a-d261-4dd3-adba-9505c6d05faf",
   "metadata": {},
   "outputs": [],
   "source": [
    "no_target, with_target = original_algorithm(img, p, targets[0])\n",
    "bins = get_shared_bins(1000, no_target, with_target)\n",
    "count_with_target,bins_with_target =np.histogram(with_target.reshape(-1,),bins=bins)\n",
    "count_no_target,bins_no_target = np.histogram(no_target.reshape(-1,),bins=bins)"
   ]
  },
  {
   "cell_type": "code",
   "execution_count": 184,
   "id": "cc0c7ee1-37b9-4874-aa46-09eec2538d3e",
   "metadata": {},
   "outputs": [],
   "source": [
    "gmf_no_target = count_no_target"
   ]
  },
  {
   "cell_type": "code",
   "execution_count": 185,
   "id": "8a916492-abf9-4bfb-9678-13d6a1730207",
   "metadata": {},
   "outputs": [
    {
     "data": {
      "application/json": {
       "ascii": false,
       "bar_format": null,
       "colour": null,
       "elapsed": 0.0029997825622558594,
       "initial": 0,
       "n": 0,
       "ncols": null,
       "nrows": 12,
       "postfix": null,
       "prefix": "",
       "rate": null,
       "total": 7,
       "unit": "it",
       "unit_divisor": 1000,
       "unit_scale": false
      },
      "application/vnd.jupyter.widget-view+json": {
       "model_id": "5a5f2850283d45d7af7b04b1f437bf57",
       "version_major": 2,
       "version_minor": 0
      },
      "text/plain": [
       "  0%|          | 0/7 [00:00<?, ?it/s]"
      ]
     },
     "metadata": {},
     "output_type": "display_data"
    }
   ],
   "source": [
    "no_target, with_target= clustered_algorithm(img, p, targets[0], clustered_image)\n",
    "bins = get_shared_bins(1000, no_target, with_target)\n",
    "count_no_target,bins_no_target = np.histogram(no_target.reshape(-1,),bins=bins)\n",
    "count_with_target,bins_with_target =np.histogram(with_target.reshape(-1,),bins=bins)\n"
   ]
  },
  {
   "cell_type": "code",
   "execution_count": 205,
   "id": "da35c15f-99ec-45e7-9b35-d4c00731b963",
   "metadata": {},
   "outputs": [
    {
     "name": "stdout",
     "output_type": "stream",
     "text": [
      "27.985, 7.555, 2.280, 1.452, \n",
      "12.693, 7.311, 2.938, 1.939, \n",
      "23.109, 13.362, 2.213, 1.274, \n",
      "35.399, 7.243, 2.597, 1.617, \n",
      "714.500, 45.927, 1.358, 1.030, \n",
      "48.713, 9.502, 2.981, 1.743, \n",
      "106.030, 24.233, 3.645, 1.840, \n"
     ]
    }
   ],
   "source": [
    "smf_lines = \"\"\"A-SMF-0 0.5975260944709283 0.4197713728291413 0.09796697260953668 0.011933967345476134\n",
    "A-SMF-1 0.40504618458893227 0.24167772401044518 0.03204669953722701 0.001468811061416291\n",
    "A-SMF-2 0.625668682898064 0.4830727077063503 0.15658763189299732 0.01437229097648318\n",
    "A-SMF-3 0.5427044756596149 0.36574850911484713 0.07105068270241534 0.009000804321455617\n",
    "A-SMF-4 0.7625850096960478 0.664155890288457 0.5343290884483941 0.40489518582101647\n",
    "A-SMF-5 0.5421229252825327 0.3761921938235064 0.0793590501134498 0.009780790476950756\n",
    "A-SMF-6 0.6205929535665651 0.4905647279920949 0.18263551881504564 0.01686036636781376\"\"\".split(\"\\n\")\n",
    "gmf_lines = \"\"\"A-GMF-1 0.4114637272591318 0.1840842481696429 0.01296716427037264 0.00042644189601177157\n",
    "A-GMF-2 0.208860866669289 0.08226183391396266 0.004383461672200277 0.00011572072707272242\n",
    "A-GMF-3 0.49110458699779214 0.21830677297612075 0.011718470581542902 0.0006219328573725649\n",
    "A-GMF-4 0.3355974168538281 0.14082053476345244 0.009809750835792842 0.0002542675594812774\n",
    "A-GMF-5 0.740469262764124 0.4888989531783192 0.011634252456478783 0.0005666836128523422\n",
    "A-GMF-6 0.3110224958204306 0.1262121185677593 0.008351434198765132 0.00020078256147024282\n",
    "A-GMF-7 0.3372336040983206 0.13457607044062603 0.0075367739203051525 0.00015901576653851808\"\"\".split(\"\\n\")\n",
    "\n",
    "for smf, gmf in zip(smf_lines, gmf_lines):\n",
    "    smf_entries = smf.split(\" \")[1:]\n",
    "    gmf_entries = gmf.split(\" \")[1:]\n",
    "    for smf_entry, gmf_entry in zip(smf_entries[::-1], gmf_entries[::-1]):\n",
    "        print(\"%.3f\" % (float(smf_entry)/float(gmf_entry)), end=\", \")\n",
    "    print()"
   ]
  },
  {
   "cell_type": "code",
   "execution_count": 219,
   "id": "90253c71-d328-4578-b970-2530c8af0c2b",
   "metadata": {},
   "outputs": [
    {
     "name": "stdout",
     "output_type": "stream",
     "text": [
      "Target 1 ||mean|| 26066.128703934362 ||mean-median|| 186.2252271263063 ||std|| 884.9158966457151\n",
      "Target 2 ||mean|| 9063.502487951404 ||mean-median|| 442.85833491671923 ||std|| 927.454254553328\n",
      "Target 3 ||mean|| 28256.819274789872 ||mean-median|| 136.98004271296253 ||std|| 402.30601442025505\n",
      "Target 4 ||mean|| 24363.367648086023 ||mean-median|| 521.9486292262637 ||std|| 1213.2113882349388\n",
      "Target 5 ||mean|| 21630.080206886872 ||mean-median|| 440.4925086556825 ||std|| 575.3805342060458\n",
      "Target 6 ||mean|| 24613.681777586688 ||mean-median|| 765.2549184995504 ||std|| 1297.2149167510922\n",
      "Target 7 ||mean|| 26141.254294697166 ||mean-median|| 1499.31985035349 ||std|| 1798.7415259337938\n"
     ]
    }
   ],
   "source": [
    "# Target examining\n",
    "\n",
    "for i in range(len(targets)):\n",
    "    cluster = img[clustered_image == i]\n",
    "    print(\"Target %d\" % (i+1), \"||mean||\", np.linalg.norm(np.mean(cluster,axis=0)), \"||mean-median||\", np.linalg.norm(np.mean(cluster,axis=0) - np.median(cluster,axis=0)), \"||std||\", np.linalg.norm(np.std((img-M)[clustered_image == i], axis=0)))\n"
   ]
  },
  {
   "cell_type": "code",
   "execution_count": 19,
   "id": "9f37ea0c-fd4f-4dea-8e28-57746489162f",
   "metadata": {},
   "outputs": [
    {
     "data": {
      "application/json": {
       "ascii": false,
       "bar_format": null,
       "colour": null,
       "elapsed": 0.004998683929443359,
       "initial": 0,
       "n": 0,
       "ncols": null,
       "nrows": null,
       "postfix": null,
       "prefix": "",
       "rate": null,
       "total": 7,
       "unit": "it",
       "unit_divisor": 1000,
       "unit_scale": false
      },
      "application/vnd.jupyter.widget-view+json": {
       "model_id": "73f66f25a2794f9f8acd3ba43ee2f1a3",
       "version_major": 2,
       "version_minor": 0
      },
      "text/plain": [
       "  0%|          | 0/7 [00:00<?, ?it/s]"
      ]
     },
     "metadata": {},
     "output_type": "display_data"
    }
   ],
   "source": [
    "data = img.copy()\n",
    "M = neighbour_mean(data)\n",
    "clusters_covariance = np.array([np.linalg.inv(covariance_matrix((data-M)[clustered_image == k][np.newaxis])) for k in tqdm(range(len(cluster_names)))])"
   ]
  },
  {
   "cell_type": "code",
   "execution_count": 21,
   "id": "bcc642c1",
   "metadata": {},
   "outputs": [
    {
     "data": {
      "text/plain": [
       "[True, True, True, True, True, True, True]"
      ]
     },
     "execution_count": 21,
     "metadata": {},
     "output_type": "execute_result"
    }
   ],
   "source": [
    "[np.all(np.linalg.eigvals(mat) > 0) for mat in clusters_covariance]"
   ]
  },
  {
   "cell_type": "code",
   "execution_count": null,
   "id": "5a6ebfd2",
   "metadata": {},
   "outputs": [],
   "source": []
  }
 ],
 "metadata": {
  "kernelspec": {
   "display_name": "Python 3.9.0 64-bit",
   "language": "python",
   "name": "python3"
  },
  "language_info": {
   "codemirror_mode": {
    "name": "ipython",
    "version": 3
   },
   "file_extension": ".py",
   "mimetype": "text/x-python",
   "name": "python",
   "nbconvert_exporter": "python",
   "pygments_lexer": "ipython3",
   "version": "3.9.0"
  },
  "vscode": {
   "interpreter": {
    "hash": "dfcdbe84488c61d1d3257810f6248fb9784a7a1f1ab0b54f122168a81a48c4b9"
   }
  }
 },
 "nbformat": 4,
 "nbformat_minor": 5
}
