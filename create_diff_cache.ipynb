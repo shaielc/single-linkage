{
 "cells": [
  {
   "cell_type": "code",
   "execution_count": 1,
   "id": "7b103050-3e90-47da-8d63-ad23bc71bcf2",
   "metadata": {},
   "outputs": [],
   "source": [
    "from process_cube.dat import read_dat_file, Header\n",
    "import numpy as np\n",
    "header = Header.read_header(\"self_test_rad.hdr\")\n",
    "img = read_dat_file(\"self_test_rad.img\", header).astype(np.float32)\n",
    "fimg = img.reshape(-1,img.shape[-1])/np.abs(img).max()\n",
    "cache_path = \"D:\\\\SingleLinkage\\\\diff.cache\""
   ]
  },
  {
   "cell_type": "code",
   "execution_count": 1,
   "id": "1b577024-66cd-4735-94b5-7aaf09ee63df",
   "metadata": {},
   "outputs": [
    {
     "ename": "NameError",
     "evalue": "name 'cache_path' is not defined",
     "output_type": "error",
     "traceback": [
      "\u001b[1;31m---------------------------------------------------------------------------\u001b[0m",
      "\u001b[1;31mNameError\u001b[0m                                 Traceback (most recent call last)",
      "Cell \u001b[1;32mIn[1], line 14\u001b[0m\n\u001b[0;32m     11\u001b[0m \u001b[38;5;28;01mdef\u001b[39;00m \u001b[38;5;21mget_distance\u001b[39m(p1,p2,img, dist\u001b[38;5;241m=\u001b[39mscipy):\n\u001b[0;32m     12\u001b[0m     \u001b[38;5;28;01mreturn\u001b[39;00m dist(img[p1],img[p2])\n\u001b[1;32m---> 14\u001b[0m \u001b[38;5;28;01mwith\u001b[39;00m \u001b[38;5;28mopen\u001b[39m(\u001b[43mcache_path\u001b[49m, \u001b[38;5;124m\"\u001b[39m\u001b[38;5;124mwb\u001b[39m\u001b[38;5;124m\"\u001b[39m) \u001b[38;5;28;01mas\u001b[39;00m f:\n\u001b[0;32m     15\u001b[0m     \u001b[38;5;28;01mpass\u001b[39;00m\n\u001b[0;32m     16\u001b[0m \u001b[38;5;28;01mfor\u001b[39;00m vector \u001b[38;5;129;01min\u001b[39;00m tqdm(\u001b[38;5;28mrange\u001b[39m(fimg\u001b[38;5;241m.\u001b[39mshape[\u001b[38;5;241m0\u001b[39m])):\n",
      "\u001b[1;31mNameError\u001b[0m: name 'cache_path' is not defined"
     ]
    }
   ],
   "source": [
    "from tqdm import tqdm\n",
    "from scipy.spatial.distance import cdist\n",
    "import os\n",
    "\n",
    "def norm(X,Y):\n",
    "    return np.linalg.norm(Y-X,axis=-1)\n",
    "\n",
    "def scipy(X,Y):\n",
    "    return cdist(X[np.newaxis],Y,metric='euclidean')\n",
    "\n",
    "def get_distance(p1,p2,img, dist=scipy):\n",
    "    return dist(img[p1],img[p2])\n",
    "\n",
    "with open(cache_path, \"wb\") as f:\n",
    "    pass\n",
    "for vector in tqdm(range(fimg.shape[0])):\n",
    "    with open(cache_path, \"ab\") as f:\n",
    "        dist = get_distance(vector, slice(1+vector,None),fimg).astype(np.float16)\n",
    "        if np.any(np.isinf(dist)):\n",
    "            print(\"inf\", vector)\n",
    "        f.write(dist.tobytes())"
   ]
  },
  {
   "cell_type": "code",
   "execution_count": null,
   "id": "d41abe7b-d16b-444a-bb0a-b031912dbc52",
   "metadata": {},
   "outputs": [],
   "source": [
    "temp_path = \"test\"\n",
    "with open(temp_path,\"wb\"):\n",
    "    pass\n",
    "for i in range(3):\n",
    "    with open(temp_path, \"ab\")  as f:\n",
    "        temp = np.random.normal(0,1, 3-i)\n",
    "        f.write(temp.tobytes())"
   ]
  },
  {
   "cell_type": "code",
   "execution_count": null,
   "id": "6a7b40da-44cc-40e3-b5b7-90b3701f59db",
   "metadata": {},
   "outputs": [],
   "source": [
    "class Tree:\n",
    "    count = 0\n",
    "    def __init__(self, members: list):\n",
    "        self.members = members\n",
    "        self.index = Tree.count\n",
    "        Tree.count+=1\n",
    "    \n",
    "    def join(self, other):\n",
    "        return Tree([self, other])\n",
    "    \n",
    "    def __iter__(self,):\n",
    "        for member in self.members:\n",
    "            yield from member\n",
    "    \n",
    "    def __len__(self,):\n",
    "        return sum(map(len, self.members))\n",
    "\n",
    "class Leaf:\n",
    "    def __init__(self, value) -> None:\n",
    "        self.value = value\n",
    "        self.index = Tree.count\n",
    "        Tree.count += 1\n",
    "    \n",
    "    def __len__(self,):\n",
    "        return 1\n",
    "    \n",
    "    def join(self, other):\n",
    "        return Tree([self, other])\n",
    "    \n",
    "    def __iter__(self) -> None:\n",
    "        yield self.value\n",
    "\n",
    "trees = {}\n",
    "N = 224000\n",
    "for i in range(N):\n",
    "    leaf = Leaf(i)\n",
    "    trees[leaf.index] = leaf\n",
    "\n",
    "test = trees[0]\n",
    "for i in range(1,N):\n",
    "    test = test.join(trees[i])"
   ]
  },
  {
   "cell_type": "code",
   "execution_count": 20,
   "id": "dc34f0c4-79eb-4927-9ff2-7ad68b4309c3",
   "metadata": {},
   "outputs": [
    {
     "data": {
      "text/plain": [
       "0.0016689300537109375"
      ]
     },
     "execution_count": 20,
     "metadata": {},
     "output_type": "execute_result"
    }
   ],
   "source": [
    "224000*4*2/1024/1024/1024"
   ]
  },
  {
   "cell_type": "code",
   "execution_count": null,
   "id": "783e934b-0cff-4523-b142-63db897a18ea",
   "metadata": {},
   "outputs": [],
   "source": []
  }
 ],
 "metadata": {
  "kernelspec": {
   "display_name": "Python 3 (ipykernel)",
   "language": "python",
   "name": "python3"
  },
  "language_info": {
   "codemirror_mode": {
    "name": "ipython",
    "version": 3
   },
   "file_extension": ".py",
   "mimetype": "text/x-python",
   "name": "python",
   "nbconvert_exporter": "python",
   "pygments_lexer": "ipython3",
   "version": "3.9.0"
  }
 },
 "nbformat": 4,
 "nbformat_minor": 5
}
