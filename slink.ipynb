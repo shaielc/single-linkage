{
 "cells": [
  {
   "cell_type": "code",
   "execution_count": 19,
   "id": "c98e8bc5-07d8-4a85-b57c-37168d2cffe5",
   "metadata": {},
   "outputs": [],
   "source": [
    "from process_cube.dat import read_dat_file, Header\n",
    "import numpy as np\n",
    "header = Header.read_header(\"self_test_rad.hdr\")\n",
    "img = read_dat_file(\"self_test_rad.img\", header).astype(np.float64)\n",
    "fimg = img.reshape(-1, header.bands)"
   ]
  },
  {
   "cell_type": "code",
   "execution_count": 67,
   "id": "c2881162-0860-484d-b518-6f781b1b75c2",
   "metadata": {},
   "outputs": [
    {
     "data": {
      "text/plain": [
       "array([0.])"
      ]
     },
     "execution_count": 67,
     "metadata": {},
     "output_type": "execute_result"
    }
   ],
   "source": [
    "import numba\n",
    "@numba.njit()\n",
    "def update_mu(lambda_arr, mu, pi, i):\n",
    "    for j in range(i):\n",
    "        if (lambda_arr[j] >= mu[j]):\n",
    "            mu[pi[j]] = min(mu[pi[j]], lambda_arr[j])\n",
    "            lambda_arr[j] = mu[j]\n",
    "            pi[j] = i\n",
    "        else:\n",
    "            mu[pi[j]] = min(mu[pi[j]], mu[j])\n",
    "    \n",
    "    for j in range(i):\n",
    "        if lambda_arr[j] >= lambda_arr[pi[j]]:\n",
    "            pi[j] = i\n",
    "\n",
    "@numba.njit(parallel=True)\n",
    "def euclidean(X,Y):\n",
    "    norms = np.empty(Y.shape[0], dtype=Y.dtype)\n",
    "    for i in numba.prange(Y.shape[0]):\n",
    "        square_sum = 0\n",
    "        for j in range(Y.shape[1]):\n",
    "            diff = Y[i][j] - X[j]\n",
    "            square_sum += diff*diff\n",
    "        norms[i] = np.sqrt(square_sum)\n",
    "    return norms\n",
    "\n",
    "a = np.random.rand(100)\n",
    "euclidean(a,a.reshape(1,-1))"
   ]
  },
  {
   "cell_type": "code",
   "execution_count": 27,
   "id": "7467b680-a410-4dca-b969-c0b95e340cba",
   "metadata": {},
   "outputs": [
    {
     "data": {
      "application/json": {
       "ascii": false,
       "bar_format": null,
       "colour": null,
       "elapsed": 0.003971099853515625,
       "initial": 0,
       "n": 0,
       "ncols": null,
       "nrows": 12,
       "postfix": null,
       "prefix": "",
       "rate": null,
       "total": 224000,
       "unit": "it",
       "unit_divisor": 1000,
       "unit_scale": false
      },
      "application/vnd.jupyter.widget-view+json": {
       "model_id": "579be00eb084460ab4422402e3e4c01e",
       "version_major": 2,
       "version_minor": 0
      },
      "text/plain": [
       "  0%|          | 0/224000 [00:00<?, ?it/s]"
      ]
     },
     "metadata": {},
     "output_type": "display_data"
    },
    {
     "data": {
      "application/json": {
       "ascii": false,
       "bar_format": null,
       "colour": null,
       "elapsed": 0.005001544952392578,
       "initial": 0,
       "n": 0,
       "ncols": null,
       "nrows": 12,
       "postfix": null,
       "prefix": "",
       "rate": null,
       "total": 223999,
       "unit": "it",
       "unit_divisor": 1000,
       "unit_scale": false
      },
      "application/vnd.jupyter.widget-view+json": {
       "model_id": "421cc5788446497fb2cef67e715a3633",
       "version_major": 2,
       "version_minor": 0
      },
      "text/plain": [
       "  0%|          | 0/223999 [00:00<?, ?it/s]"
      ]
     },
     "metadata": {},
     "output_type": "display_data"
    }
   ],
   "source": [
    "# %%prun\n",
    "from scipy.cluster.hierarchy import linkage\n",
    "from tqdm.notebook import tqdm\n",
    "\n",
    "\n",
    "def find_parent(forest,index):\n",
    "    if forest[index] == index:\n",
    "        return index\n",
    "    forest[index] = find_parent(forest, forest[index])\n",
    "    return forest[index]\n",
    "\n",
    "\n",
    "\n",
    "def SLINK(vectors, dist_func):\n",
    "    pi = np.zeros(vectors.shape[0], dtype=np.int32)\n",
    "    lambda_arr = np.ones(len(vectors),dtype=np.float64) * np.inf\n",
    "    mu = np.ones(len(vectors),dtype=np.float64) * np.inf\n",
    "    \n",
    "    for i in tqdm(range(vectors.shape[0])):\n",
    "        # vectorize: np.linalg.norm(vectors[i] - vectors[:i], axis=-1)\n",
    "#         for j in range(i):\n",
    "#             mu[j] = dist_func(vectors[i], vectors[j])\n",
    "        mu[:i] = dist_func(vectors[i], vectors[:i])\n",
    "        \n",
    "        # This should be vectorized but I'm not 100% how\n",
    "        update_mu(lambda_arr,mu,pi,i)\n",
    "    \n",
    "    forest = np.arange(vectors.shape[0]*2)\n",
    "    linkage_matrix = np.ones((vectors.shape[0]-1, 4))\n",
    "    order = np.argsort(lambda_arr)\n",
    "    for i in tqdm(range(vectors.shape[0] -1)):\n",
    "        current = order[i]\n",
    "        current_lambda = lambda_arr[current]\n",
    "        current_pi = pi[current]\n",
    "        \n",
    "        parent_index = find_parent(forest, current)\n",
    "        parent_dim = 1 if parent_index < vectors.shape[0] else linkage_matrix[parent_index - vectors.shape[0]][3]\n",
    "        \n",
    "        pair_parent_index = find_parent(forest, current_pi)\n",
    "        pair_parent_dim = 1 if pair_parent_index < vectors.shape[0] else linkage_matrix[pair_parent_index - vectors.shape[0]][3]\n",
    "        \n",
    "        linkage_matrix[i] = (\n",
    "            min(parent_index,pair_parent_index), \n",
    "            max(pair_parent_index,parent_index), \n",
    "            current_lambda, \n",
    "            parent_dim + pair_parent_dim\n",
    "        )\n",
    "        joined = i + vectors.shape[0]\n",
    "        forest[min(parent_index,joined)] = max(joined,parent_index)\n",
    "        forest[min(pair_parent_index,joined)] = max(joined, pair_parent_index)\n",
    "\n",
    "    return linkage_matrix,pi\n",
    "N = len(fimg)\n",
    "vectors = fimg[:N]\n",
    "# vectors = np.random.normal(0,1,size=(N,3))\n",
    "# print(\"scipy\")\n",
    "# scipy = linkage(vectors, 'single')\n",
    "# print(\"SLINK\")\n",
    "mine, pi = SLINK(vectors, euclidean)\n",
    "# print(np.all(scipy[:,[0,1,3]] == mine[:,[0,1,3]]))\n",
    "            "
   ]
  },
  {
   "cell_type": "code",
   "execution_count": null,
   "id": "199cc21a-5a99-444b-8fe4-0581271ee850",
   "metadata": {},
   "outputs": [],
   "source": []
  },
  {
   "cell_type": "code",
   "execution_count": 28,
   "id": "22655ec4-3b99-48e3-8dae-aa8567ea2c92",
   "metadata": {},
   "outputs": [],
   "source": [
    "# from dash import Dash, html\n",
    "# import dash_cytoscape as cyto\n",
    "\n",
    "# def create_node(i):\n",
    "#     if (i == 447998):\n",
    "#         print(i)\n",
    "#     return {\"data\": {\"id\": i, \"label\": i}}\n",
    "\n",
    "# def create_edge(i,j):\n",
    "#     return {\"data\": {\"source\":i, \"target\": j}}\n",
    "\n",
    "# cyto.load_extra_layouts()\n",
    "# app = Dash(__name__)\n",
    "\n",
    "# app.layout = html.Div([\n",
    "#     html.P(\"Dash Cytoscape:\"),\n",
    "#     cyto.Cytoscape(\n",
    "#         id='cytoscape',\n",
    "#         elements=[\n",
    "#             *(create_node(i) for i in range(vectors.shape[0]*2 - 1)),\n",
    "#             *(create_edge(v,vectors.shape[0]+i) for i,v in enumerate(mine[:,0] )),\n",
    "#             *(create_edge(v,vectors.shape[0]+i) for i,v in enumerate(mine[:,1] )),\n",
    "#         ],\n",
    "# #         layout={'name': 'dagre',\"rankDir\": 'LR',},\n",
    "#         style={'width': '100%', 'height': '1000px', 'border': '3px solid black'}\n",
    "#     )\n",
    "# ])\n",
    "\n",
    "\n",
    "# app.run_server(debug=True)"
   ]
  },
  {
   "cell_type": "code",
   "execution_count": 29,
   "id": "600c665f-091a-42ec-a9c0-07063af66be5",
   "metadata": {},
   "outputs": [],
   "source": [
    "import networkx as nx\n",
    "import numpy as np\n",
    "from process_cube.dat import read_dat_file, Header\n",
    "import numpy as np\n",
    "header = Header.read_header(\"self_test_rad.hdr\")\n",
    "img = read_dat_file(\"self_test_rad.img\", header).astype(np.float64)\n",
    "fimg = img.reshape(-1, header.bands)\n",
    "mine = np.fromfile(\"hierarchy\").reshape(-1,4)\n",
    "vectors = fimg\n",
    "\n",
    "graph = nx.DiGraph()\n",
    "nodes = [0]*(vectors.shape[0]*2-1)\n",
    "for i in range(vectors.shape[0]*2 - 1):\n",
    "    nodes[i] = {\n",
    "        \"dist\": 0 if i < vectors.shape[0] else mine[i-vectors.shape[0],2],\n",
    "        \"dim\": 1 if i < vectors.shape[0] else mine[i-vectors.shape[0],3],\n",
    "        \"parent\": i,\n",
    "        \"value\": i\n",
    "    }\n",
    "    graph.add_node(\n",
    "        i, \n",
    "        dist=0 if i < vectors.shape[0] else mine[i-vectors.shape[0],2],\n",
    "        dim=1 if i < vectors.shape[0] else mine[i-vectors.shape[0],3],\n",
    "        parent=i,\n",
    "        value=i\n",
    "    )\n",
    "for i,v in enumerate(mine[:,0] ):\n",
    "    parent= vectors.shape[0]+i\n",
    "    graph.add_edge(parent,v)\n",
    "    nx.set_node_attributes(graph,values={v: parent}, name=\"parent\")\n",
    "    nodes[int(v)][\"parent\"] = parent\n",
    "for i,v in enumerate(mine[:,1] ):\n",
    "    parent= vectors.shape[0]+i\n",
    "    graph.add_edge(parent,v)\n",
    "    nx.set_node_attributes(graph,values={v: parent}, name=\"parent\")\n",
    "    nodes[int(v)][\"parent\"] = parent\n",
    "    \n"
   ]
  },
  {
   "cell_type": "code",
   "execution_count": 30,
   "id": "9df72f24-ba2f-45d4-938f-11dcfa79895d",
   "metadata": {},
   "outputs": [
    {
     "data": {
      "application/json": {
       "ascii": false,
       "bar_format": null,
       "colour": null,
       "elapsed": 0.00999903678894043,
       "initial": 0,
       "n": 0,
       "ncols": null,
       "nrows": 12,
       "postfix": null,
       "prefix": "",
       "rate": null,
       "total": null,
       "unit": "it",
       "unit_divisor": 1000,
       "unit_scale": false
      },
      "application/vnd.jupyter.widget-view+json": {
       "model_id": "22a5bd4fa298475c9438123db76bbd1c",
       "version_major": 2,
       "version_minor": 0
      },
      "text/plain": [
       "0it [00:00, ?it/s]"
      ]
     },
     "metadata": {},
     "output_type": "display_data"
    },
    {
     "data": {
      "text/plain": [
       "[{'dist': 280.27664904518895,\n",
       "  'dim': 107987.0,\n",
       "  'parent': 368464,\n",
       "  'value': 368459},\n",
       " {'dist': 280.28021692584724,\n",
       "  'dim': 14093.0,\n",
       "  'parent': 368464,\n",
       "  'value': 368461},\n",
       " {'dist': 415.45156155681974,\n",
       "  'dim': 2072.0,\n",
       "  'parent': 418939,\n",
       "  'value': 418832},\n",
       " {'dist': 313.4166555880526, 'dim': 1261.0, 'parent': 385490, 'value': 385342}]"
      ]
     },
     "execution_count": 30,
     "metadata": {},
     "output_type": "execute_result"
    }
   ],
   "source": [
    "from ipywidgets import Label\n",
    "from tqdm.notebook import tqdm\n",
    "root_id = vectors.shape[0]*2-2\n",
    "iter_bfs = nx.bfs_successors(graph,root_id)\n",
    "paths = {}\n",
    "i = 0\n",
    "arg_maximal = {root_id: 0}\n",
    "maximal = [graph.nodes[root_id]]\n",
    "\n",
    "def key(node):\n",
    "    return node[\"dim\"]\n",
    "\n",
    "def sort_dim(nodes):\n",
    "    return nodes.sort(key=key, reverse=True)\n",
    "\n",
    "def sort_maximal(maximal, arg_maximal):\n",
    "    sort_dim(maximal)\n",
    "    for i,node in enumerate(maximal):\n",
    "        arg_maximal[node[\"value\"]] = i\n",
    "\n",
    "def remove_maximal(maximal, arg_maximal, index):\n",
    "    pos = arg_maximal.pop(index)\n",
    "    del maximal[pos]\n",
    "    \n",
    "N = 4\n",
    "for parent, successors in tqdm(iter_bfs):\n",
    "#     path = paths.get(node,tuple())\n",
    "#     path = (*path, node)\n",
    "#     for succesor in successors:\n",
    "#         paths[succesor] = path\n",
    "    nodes = [graph.nodes[succesor] for succesor in successors]\n",
    "    if len(maximal) < N:\n",
    "        remove_maximal(maximal, arg_maximal, parent)\n",
    "    else:\n",
    "        sort_dim(nodes)\n",
    "        nodes = [node for node in nodes if node[\"dim\"] > maximal[-1][\"dim\"]]\n",
    "        if len(nodes) < 2:\n",
    "            continue\n",
    "        max_parent = parent\n",
    "        while max_parent not in arg_maximal:\n",
    "            max_parent = graph.nodes[max_parent][\"parent\"]\n",
    "        remove_maximal(maximal, arg_maximal, max_parent)\n",
    "    maximal+=nodes\n",
    "    sort_maximal(maximal, arg_maximal)\n",
    "    for node in maximal[N:]:\n",
    "        del arg_maximal[node[\"value\"]]\n",
    "    maximal = maximal[:N]\n",
    "\n",
    "maximal"
   ]
  },
  {
   "cell_type": "code",
   "execution_count": 108,
   "id": "e7b1439f-9206-4853-b0c8-eb7d3f9c2c59",
   "metadata": {},
   "outputs": [
    {
     "data": {
      "text/plain": [
       "{(0, 1, 2, 3): 447998,\n",
       " (0, 1, 3): 418936,\n",
       " (2,): 418832,\n",
       " (0, 1): 385487,\n",
       " (3,): 385342,\n",
       " (0,): 368459,\n",
       " (1,): 368461}"
      ]
     },
     "execution_count": 108,
     "metadata": {},
     "output_type": "execute_result"
    }
   ],
   "source": [
    "paths = [nx.shortest_path(graph, vectors.shape[0]*2-2, node[\"value\"]) for node in maximal]\n",
    "groups = [tuple(range(len(paths)))]\n",
    "path_split = {groups[0]: (0,0)}\n",
    "lowest_non_common = {}\n",
    "\n",
    "i = 0\n",
    "while len(groups) > 0:\n",
    "    i+=1\n",
    "    new_groups = []\n",
    "    for group in groups:\n",
    "        \n",
    "        group_paths = [paths[path_ind] for path_ind in group]\n",
    "        split = {}\n",
    "        for path_ind in group:\n",
    "            path = paths[path_ind]\n",
    "            v = path[i]\n",
    "            out = split.get(v, [])\n",
    "            split[v] = out+[path_ind]\n",
    "        path_split[group] = (path_split[group][0],i-1)\n",
    "        for group in split.values():\n",
    "            group = tuple(group)\n",
    "            if group not in path_split:\n",
    "                path_split[group] = (i,i)\n",
    "            if len(group) > 1:\n",
    "                new_groups.append(group)\n",
    "            else:\n",
    "                lowest_non_common[group[0]] = paths[group[0]][i-1]\n",
    "    groups = new_groups\n",
    "    \n",
    "clusters_roots = {group: paths[group[0]][split[0]] for group, split in path_split.items()}\n",
    "clusters_roots"
   ]
  },
  {
   "cell_type": "code",
   "execution_count": 109,
   "id": "e474ea5f-59a6-4a57-ac53-f4b8c6ed508a",
   "metadata": {},
   "outputs": [
    {
     "data": {
      "application/json": {
       "ascii": false,
       "bar_format": null,
       "colour": null,
       "elapsed": 0.0030291080474853516,
       "initial": 0,
       "n": 0,
       "ncols": null,
       "nrows": 12,
       "postfix": null,
       "prefix": "",
       "rate": null,
       "total": 7,
       "unit": "it",
       "unit_divisor": 1000,
       "unit_scale": false
      },
      "application/vnd.jupyter.widget-view+json": {
       "model_id": "a26ea003c13645008b3ddd253ab75102",
       "version_major": 2,
       "version_minor": 0
      },
      "text/plain": [
       "  0%|          | 0/7 [00:00<?, ?it/s]"
      ]
     },
     "metadata": {},
     "output_type": "display_data"
    },
    {
     "data": {
      "text/plain": [
       "[14093, 107987, 1261, 19414, 2072, 40972, 38201]"
      ]
     },
     "execution_count": 109,
     "metadata": {},
     "output_type": "execute_result"
    }
   ],
   "source": [
    "descendants = {group: nx.descendants(graph, cluster_root) for group,cluster_root in reversed(clusters_roots.items())}\n",
    "\n",
    "total = set()\n",
    "clusters = {}\n",
    "leaves = set(range(vectors.shape[0]))\n",
    "for group, cluster in tqdm(descendants.items()):\n",
    "    cluster = leaves.intersection(cluster)\n",
    "    clusters[group] = (cluster - total)\n",
    "    total = total.union(cluster)\n",
    "other = leaves - total\n",
    "[len(cluster) for cluster in clusters.values()]"
   ]
  },
  {
   "cell_type": "code",
   "execution_count": 110,
   "id": "aad729a3-ac2c-4762-a2c9-994baaa01024",
   "metadata": {},
   "outputs": [],
   "source": [
    "from matplotlib.cm import get_cmap\n",
    "colors = get_cmap(\"Set1\").colors\n",
    "def cycle_colors(i, bad_i=-1):\n",
    "    if i == bad_i:\n",
    "        return get_cmap(\"Set1\").get_bad()[:3]\n",
    "    return colors[i%len(colors)][:3]"
   ]
  },
  {
   "cell_type": "code",
   "execution_count": 121,
   "id": "53315a3e-2863-441d-9687-dcaeb20fcd81",
   "metadata": {},
   "outputs": [
    {
     "data": {
      "application/vnd.jupyter.widget-view+json": {
       "model_id": "50c299a1e4214371a13ac958c726edb1",
       "version_major": 2,
       "version_minor": 0
      },
      "text/plain": [
       "Canvas(toolbar=Toolbar(toolitems=[('Home', 'Reset original view', 'home', 'home'), ('Back', 'Back to previous …"
      ]
     },
     "metadata": {},
     "output_type": "display_data"
    },
    {
     "data": {
      "application/vnd.jupyter.widget-view+json": {
       "model_id": "a1583527336346ada02048ecf9cabe46",
       "version_major": 2,
       "version_minor": 0
      },
      "text/plain": [
       "Canvas(toolbar=Toolbar(toolitems=[('Home', 'Reset original view', 'home', 'home'), ('Back', 'Back to previous …"
      ]
     },
     "metadata": {},
     "output_type": "display_data"
    }
   ],
   "source": [
    "%matplotlib widget\n",
    "from matplotlib import pyplot as plt\n",
    "from matplotlib.patches import Patch\n",
    "from tqdm.notebook import tqdm\n",
    "rgb = img[:,:,[1,5,11]]\n",
    "\n",
    "rgb = rgb - rgb.min()\n",
    "rgb = rgb/rgb.max()\n",
    "plt.figure()\n",
    "plt.imshow(rgb)\n",
    "\n",
    "cluster_image = np.zeros_like(rgb)\n",
    "for k, cluster in enumerate(clusters.values()):\n",
    "    for n in cluster:\n",
    "        n = int(n)\n",
    "        i = n // img.shape[1]\n",
    "        j = n % img.shape[1]\n",
    "        cluster_image[i,j] = cycle_colors(k)\n",
    "for n in other:\n",
    "    n = int(n)\n",
    "    i = n // img.shape[1]\n",
    "    j = n % img.shape[1]\n",
    "    cluster_image[i,j] = cycle_colors(-1,bad_i=-1)\n",
    "fig, (ax1,ax2) = plt.subplots(1,2,gridspec_kw={'width_ratios': [10, 1]})\n",
    "ax1.imshow(cluster_image,extent=(0, cluster_image.shape[1], cluster_image.shape[0], 0))\n",
    "ax2.imshow(np.array([[cycle_colors(k) for k,_ in enumerate(clusters)]]).swapaxes(0,1), extent=(0,3,0,len(clusters)))\n",
    "for k,cluster_name in enumerate(clusters_roots):\n",
    "    ax2.text(0.5,k+0.5,str(clusters_roots[cluster_name]))\n",
    "    \n"
   ]
  },
  {
   "cell_type": "code",
   "execution_count": 119,
   "id": "baf83b9c-1704-43bb-bf7f-6a412138f493",
   "metadata": {},
   "outputs": [],
   "source": [
    "import json\n",
    "with open(\"clusters.json\",'w') as f:\n",
    "    json.dump({i: {\"name\": name, \"cluster\": [(int(index//img.shape[1]), int(index % img.shape[1])) for index in cluster]} for i,(name, cluster) in enumerate(clusters.items())},f)"
   ]
  },
  {
   "cell_type": "code",
   "execution_count": null,
   "id": "dccc7e11-adba-4441-96d6-a4fa2394877f",
   "metadata": {},
   "outputs": [],
   "source": []
  }
 ],
 "metadata": {
  "kernelspec": {
   "display_name": "Python 3 (ipykernel)",
   "language": "python",
   "name": "python3"
  },
  "language_info": {
   "codemirror_mode": {
    "name": "ipython",
    "version": 3
   },
   "file_extension": ".py",
   "mimetype": "text/x-python",
   "name": "python",
   "nbconvert_exporter": "python",
   "pygments_lexer": "ipython3",
   "version": "3.9.0"
  }
 },
 "nbformat": 4,
 "nbformat_minor": 5
}
