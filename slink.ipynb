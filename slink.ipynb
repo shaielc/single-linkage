{
 "cells": [
  {
   "cell_type": "code",
   "execution_count": 97,
   "id": "c98e8bc5-07d8-4a85-b57c-37168d2cffe5",
   "metadata": {},
   "outputs": [],
   "source": [
    "from process_cube.dat import read_dat_file, Header\n",
    "import numpy as np\n",
    "header = Header.read_header(\"self_test_rad.hdr\")\n",
    "img = read_dat_file(\"self_test_rad.img\", header).astype(np.float64)\n",
    "fimg = img.reshape(-1, header.bands)"
   ]
  },
  {
   "cell_type": "code",
   "execution_count": 98,
   "id": "c2881162-0860-484d-b518-6f781b1b75c2",
   "metadata": {},
   "outputs": [
    {
     "data": {
      "text/plain": [
       "array([0.])"
      ]
     },
     "execution_count": 98,
     "metadata": {},
     "output_type": "execute_result"
    }
   ],
   "source": [
    "import numba\n",
    "@numba.njit()\n",
    "def update_mu(lambda_arr, mu, pi, i):\n",
    "    for j in range(i):\n",
    "        if (lambda_arr[j] >= mu[j]):\n",
    "            mu[pi[j]] = min(mu[pi[j]], lambda_arr[j])\n",
    "            lambda_arr[j] = mu[j]\n",
    "            pi[j] = i\n",
    "        else:\n",
    "            mu[pi[j]] = min(mu[pi[j]], mu[j])\n",
    "    \n",
    "    for j in range(i):\n",
    "        if lambda_arr[j] >= lambda_arr[pi[j]]:\n",
    "            pi[j] = i\n",
    "\n",
    "@numba.njit(parallel=True)\n",
    "def euclidean(X,Y):\n",
    "    norms = np.empty(Y.shape[0], dtype=Y.dtype)\n",
    "    for i in numba.prange(Y.shape[0]):\n",
    "        square_sum = 0\n",
    "        for j in range(Y.shape[1]):\n",
    "            diff = Y[i][j] - X[j]\n",
    "            square_sum += diff*diff\n",
    "        norms[i] = np.sqrt(square_sum)\n",
    "    return norms\n",
    "\n",
    "a = np.random.rand(100)\n",
    "euclidean(a,a.reshape(1,-1))"
   ]
  },
  {
   "cell_type": "code",
   "execution_count": 99,
   "id": "7467b680-a410-4dca-b969-c0b95e340cba",
   "metadata": {},
   "outputs": [
    {
     "data": {
      "application/json": {
       "ascii": false,
       "bar_format": null,
       "colour": null,
       "elapsed": 0.005999565124511719,
       "initial": 0,
       "n": 0,
       "ncols": null,
       "nrows": null,
       "postfix": null,
       "prefix": "",
       "rate": null,
       "total": 224000,
       "unit": "it",
       "unit_divisor": 1000,
       "unit_scale": false
      },
      "application/vnd.jupyter.widget-view+json": {
       "model_id": "c044c2b06de8458095fa0af9a16693d9",
       "version_major": 2,
       "version_minor": 0
      },
      "text/plain": [
       "  0%|          | 0/224000 [00:00<?, ?it/s]"
      ]
     },
     "metadata": {},
     "output_type": "display_data"
    }
   ],
   "source": [
    "# %%prun\n",
    "from scipy.cluster.hierarchy import linkage\n",
    "from tqdm.notebook import tqdm\n",
    "\n",
    "\n",
    "def find_parent(forest,index):\n",
    "    if forest[index] == index:\n",
    "        return index\n",
    "    forest[index] = find_parent(forest, forest[index])\n",
    "    return forest[index]\n",
    "\n",
    "\n",
    "\n",
    "def SLINK(vectors, dist_func):\n",
    "    pi = np.zeros(vectors.shape[0], dtype=np.int32)\n",
    "    lambda_arr = np.ones(len(vectors),dtype=np.float64) * np.inf\n",
    "    mu = np.ones(len(vectors),dtype=np.float64) * np.inf\n",
    "    \n",
    "    for i in tqdm(range(vectors.shape[0])):\n",
    "        # vectorize: np.linalg.norm(vectors[i] - vectors[:i], axis=-1)\n",
    "#         for j in range(i):\n",
    "#             mu[j] = dist_func(vectors[i], vectors[j])\n",
    "        mu[:i] = dist_func(vectors[i], vectors[:i])\n",
    "        \n",
    "        # This should be vectorized but I'm not 100% how\n",
    "        update_mu(lambda_arr,mu,pi,i)\n",
    "    \n",
    "    forest = np.arange(vectors.shape[0]*2)\n",
    "    linkage_matrix = np.ones((vectors.shape[0]-1, 4))\n",
    "    order = np.argsort(lambda_arr)\n",
    "    for i in tqdm(range(vectors.shape[0] -1)):\n",
    "        current = order[i]\n",
    "        current_lambda = lambda_arr[current]\n",
    "        current_pi = pi[current]\n",
    "        \n",
    "        parent_index = find_parent(forest, current)\n",
    "        parent_dim = 1 if parent_index < vectors.shape[0] else linkage_matrix[parent_index - vectors.shape[0]][3]\n",
    "        \n",
    "        pair_parent_index = find_parent(forest, current_pi)\n",
    "        pair_parent_dim = 1 if pair_parent_index < vectors.shape[0] else linkage_matrix[pair_parent_index - vectors.shape[0]][3]\n",
    "        \n",
    "        linkage_matrix[i] = (\n",
    "            min(parent_index,pair_parent_index), \n",
    "            max(pair_parent_index,parent_index), \n",
    "            current_lambda, \n",
    "            parent_dim + pair_parent_dim\n",
    "        )\n",
    "        joined = i + vectors.shape[0]\n",
    "        forest[min(parent_index,joined)] = max(joined,parent_index)\n",
    "        forest[min(pair_parent_index,joined)] = max(joined, pair_parent_index)\n",
    "\n",
    "    return linkage_matrix,pi\n",
    "N = len(fimg)\n",
    "vectors = fimg[:N]\n",
    "# vectors = np.random.normal(0,1,size=(N,3))\n",
    "# print(\"scipy\")\n",
    "# scipy = linkage(vectors, 'single')\n",
    "# print(\"SLINK\")\n",
    "mine, pi = SLINK(vectors, euclidean)\n",
    "# print(np.all(scipy[:,[0,1,3]] == mine[:,[0,1,3]]))\n",
    "            "
   ]
  },
  {
   "cell_type": "code",
   "execution_count": null,
   "id": "199cc21a-5a99-444b-8fe4-0581271ee850",
   "metadata": {},
   "outputs": [],
   "source": []
  },
  {
   "cell_type": "code",
   "execution_count": 28,
   "id": "22655ec4-3b99-48e3-8dae-aa8567ea2c92",
   "metadata": {},
   "outputs": [],
   "source": [
    "# from dash import Dash, html\n",
    "# import dash_cytoscape as cyto\n",
    "\n",
    "# def create_node(i):\n",
    "#     if (i == 447998):\n",
    "#         print(i)\n",
    "#     return {\"data\": {\"id\": i, \"label\": i}}\n",
    "\n",
    "# def create_edge(i,j):\n",
    "#     return {\"data\": {\"source\":i, \"target\": j}}\n",
    "\n",
    "# cyto.load_extra_layouts()\n",
    "# app = Dash(__name__)\n",
    "\n",
    "# app.layout = html.Div([\n",
    "#     html.P(\"Dash Cytoscape:\"),\n",
    "#     cyto.Cytoscape(\n",
    "#         id='cytoscape',\n",
    "#         elements=[\n",
    "#             *(create_node(i) for i in range(vectors.shape[0]*2 - 1)),\n",
    "#             *(create_edge(v,vectors.shape[0]+i) for i,v in enumerate(mine[:,0] )),\n",
    "#             *(create_edge(v,vectors.shape[0]+i) for i,v in enumerate(mine[:,1] )),\n",
    "#         ],\n",
    "# #         layout={'name': 'dagre',\"rankDir\": 'LR',},\n",
    "#         style={'width': '100%', 'height': '1000px', 'border': '3px solid black'}\n",
    "#     )\n",
    "# ])\n",
    "\n",
    "\n",
    "# app.run_server(debug=True)"
   ]
  },
  {
   "cell_type": "code",
   "execution_count": 1,
   "id": "600c665f-091a-42ec-a9c0-07063af66be5",
   "metadata": {},
   "outputs": [],
   "source": [
    "import networkx as nx\n",
    "import numpy as np\n",
    "from process_cube.dat import read_dat_file, Header\n",
    "import numpy as np\n",
    "header = Header.read_header(\"self_test_rad.hdr\")\n",
    "img = read_dat_file(\"self_test_rad.img\", header).astype(np.float64)\n",
    "fimg = img.reshape(-1, header.bands)\n",
    "mine = np.fromfile(\"hierarchy\").reshape(-1,4)\n",
    "vectors = fimg\n",
    "\n",
    "graph = nx.DiGraph()\n",
    "nodes = [0]*(vectors.shape[0]*2-1)\n",
    "for i in range(vectors.shape[0]*2 - 1):\n",
    "    nodes[i] = {\n",
    "        \"dist\": 0 if i < vectors.shape[0] else mine[i-vectors.shape[0],2],\n",
    "        \"dim\": 1 if i < vectors.shape[0] else mine[i-vectors.shape[0],3],\n",
    "        \"parent\": i,\n",
    "        \"value\": i\n",
    "    }\n",
    "    graph.add_node(\n",
    "        i, \n",
    "        dist=0 if i < vectors.shape[0] else mine[i-vectors.shape[0],2],\n",
    "        dim=1 if i < vectors.shape[0] else mine[i-vectors.shape[0],3],\n",
    "        parent=i,\n",
    "        value=i\n",
    "    )\n",
    "for i,v in enumerate(mine[:,0] ):\n",
    "    parent= vectors.shape[0]+i\n",
    "    graph.add_edge(parent,v)\n",
    "    nx.set_node_attributes(graph,values={v: parent}, name=\"parent\")\n",
    "    nodes[int(v)][\"parent\"] = parent\n",
    "for i,v in enumerate(mine[:,1] ):\n",
    "    parent= vectors.shape[0]+i\n",
    "    graph.add_edge(parent,v)\n",
    "    nx.set_node_attributes(graph,values={v: parent}, name=\"parent\")\n",
    "    nodes[int(v)][\"parent\"] = parent\n",
    "    \n"
   ]
  },
  {
   "cell_type": "code",
   "execution_count": 2,
   "id": "9df72f24-ba2f-45d4-938f-11dcfa79895d",
   "metadata": {},
   "outputs": [
    {
     "data": {
      "application/json": {
       "ascii": false,
       "bar_format": null,
       "colour": null,
       "elapsed": 0.006997823715209961,
       "initial": 0,
       "n": 0,
       "ncols": null,
       "nrows": null,
       "postfix": null,
       "prefix": "",
       "rate": null,
       "total": null,
       "unit": "it",
       "unit_divisor": 1000,
       "unit_scale": false
      },
      "application/vnd.jupyter.widget-view+json": {
       "model_id": "04e6ca58516e4524a071e71644b38906",
       "version_major": 2,
       "version_minor": 0
      },
      "text/plain": [
       "0it [00:00, ?it/s]"
      ]
     },
     "metadata": {},
     "output_type": "display_data"
    },
    {
     "data": {
      "text/plain": [
       "[{'dist': 280.27664904518895,\n",
       "  'dim': 107987.0,\n",
       "  'parent': 368464,\n",
       "  'value': 368459},\n",
       " {'dist': 280.28021692584724,\n",
       "  'dim': 14093.0,\n",
       "  'parent': 368464,\n",
       "  'value': 368461},\n",
       " {'dist': 415.45156155681974,\n",
       "  'dim': 2072.0,\n",
       "  'parent': 418939,\n",
       "  'value': 418832},\n",
       " {'dist': 313.4166555880526, 'dim': 1261.0, 'parent': 385490, 'value': 385342}]"
      ]
     },
     "execution_count": 2,
     "metadata": {},
     "output_type": "execute_result"
    }
   ],
   "source": [
    "from ipywidgets import Label\n",
    "from tqdm.notebook import tqdm\n",
    "root_id = vectors.shape[0]*2-2\n",
    "iter_bfs = nx.bfs_successors(graph,root_id)\n",
    "paths = {}\n",
    "i = 0\n",
    "arg_maximal = {root_id: 0}\n",
    "maximal = [graph.nodes[root_id]]\n",
    "\n",
    "def key(node):\n",
    "    return node[\"dim\"]\n",
    "\n",
    "def sort_dim(nodes):\n",
    "    return nodes.sort(key=key, reverse=True)\n",
    "\n",
    "def sort_maximal(maximal, arg_maximal):\n",
    "    sort_dim(maximal)\n",
    "    for i,node in enumerate(maximal):\n",
    "        arg_maximal[node[\"value\"]] = i\n",
    "\n",
    "def remove_maximal(maximal, arg_maximal, index):\n",
    "    pos = arg_maximal.pop(index)\n",
    "    del maximal[pos]\n",
    "    \n",
    "N = 4\n",
    "for parent, successors in tqdm(iter_bfs):\n",
    "#     path = paths.get(node,tuple())\n",
    "#     path = (*path, node)\n",
    "#     for succesor in successors:\n",
    "#         paths[succesor] = path\n",
    "    nodes = [graph.nodes[succesor] for succesor in successors]\n",
    "    if len(maximal) < N:\n",
    "        remove_maximal(maximal, arg_maximal, parent)\n",
    "    else:\n",
    "        sort_dim(nodes)\n",
    "        nodes = [node for node in nodes if node[\"dim\"] > maximal[-1][\"dim\"]]\n",
    "        if len(nodes) < 2:\n",
    "            continue\n",
    "        max_parent = parent\n",
    "        while max_parent not in arg_maximal:\n",
    "            max_parent = graph.nodes[max_parent][\"parent\"]\n",
    "        remove_maximal(maximal, arg_maximal, max_parent)\n",
    "    maximal+=nodes\n",
    "    sort_maximal(maximal, arg_maximal)\n",
    "    for node in maximal[N:]:\n",
    "        del arg_maximal[node[\"value\"]]\n",
    "    maximal = maximal[:N]\n",
    "\n",
    "maximal"
   ]
  },
  {
   "cell_type": "code",
   "execution_count": 3,
   "id": "e7b1439f-9206-4853-b0c8-eb7d3f9c2c59",
   "metadata": {},
   "outputs": [
    {
     "data": {
      "text/plain": [
       "{(0, 1, 2, 3): 447998,\n",
       " (0, 1, 3): 418936,\n",
       " (2,): 418832,\n",
       " (0, 1): 385487,\n",
       " (3,): 385342,\n",
       " (0,): 368459,\n",
       " (1,): 368461}"
      ]
     },
     "execution_count": 3,
     "metadata": {},
     "output_type": "execute_result"
    }
   ],
   "source": [
    "paths = [nx.shortest_path(graph, vectors.shape[0]*2-2, node[\"value\"]) for node in maximal]\n",
    "groups = [tuple(range(len(paths)))]\n",
    "path_split = {groups[0]: (0,0)}\n",
    "lowest_non_common = {}\n",
    "\n",
    "i = 0\n",
    "while len(groups) > 0:\n",
    "    i+=1\n",
    "    new_groups = []\n",
    "    for group in groups:\n",
    "        \n",
    "        group_paths = [paths[path_ind] for path_ind in group]\n",
    "        split = {}\n",
    "        for path_ind in group:\n",
    "            path = paths[path_ind]\n",
    "            v = path[i]\n",
    "            out = split.get(v, [])\n",
    "            split[v] = out+[path_ind]\n",
    "        path_split[group] = (path_split[group][0],i-1)\n",
    "        for group in split.values():\n",
    "            group = tuple(group)\n",
    "            if group not in path_split:\n",
    "                path_split[group] = (i,i)\n",
    "            if len(group) > 1:\n",
    "                new_groups.append(group)\n",
    "            else:\n",
    "                lowest_non_common[group[0]] = paths[group[0]][i-1]\n",
    "    groups = new_groups\n",
    "    \n",
    "clusters_roots = {group: paths[group[0]][split[0]] for group, split in path_split.items()}\n",
    "clusters_roots"
   ]
  },
  {
   "cell_type": "code",
   "execution_count": 4,
   "id": "e474ea5f-59a6-4a57-ac53-f4b8c6ed508a",
   "metadata": {},
   "outputs": [
    {
     "data": {
      "application/json": {
       "ascii": false,
       "bar_format": null,
       "colour": null,
       "elapsed": 0.003996133804321289,
       "initial": 0,
       "n": 0,
       "ncols": null,
       "nrows": null,
       "postfix": null,
       "prefix": "",
       "rate": null,
       "total": 7,
       "unit": "it",
       "unit_divisor": 1000,
       "unit_scale": false
      },
      "application/vnd.jupyter.widget-view+json": {
       "model_id": "4e04be862e0f4df3866b8e7448ff8a13",
       "version_major": 2,
       "version_minor": 0
      },
      "text/plain": [
       "  0%|          | 0/7 [00:00<?, ?it/s]"
      ]
     },
     "metadata": {},
     "output_type": "display_data"
    },
    {
     "data": {
      "text/plain": [
       "[14093, 107987, 1261, 19414, 2072, 40972, 38201]"
      ]
     },
     "execution_count": 4,
     "metadata": {},
     "output_type": "execute_result"
    }
   ],
   "source": [
    "descendants = {group: nx.descendants(graph, cluster_root) for group,cluster_root in reversed(clusters_roots.items())}\n",
    "\n",
    "total = set()\n",
    "clusters = {}\n",
    "leaves = set(range(vectors.shape[0]))\n",
    "for group, cluster in tqdm(descendants.items()):\n",
    "    cluster = leaves.intersection(cluster)\n",
    "    clusters[group] = (cluster - total)\n",
    "    total = total.union(cluster)\n",
    "other = leaves - total\n",
    "[len(cluster) for cluster in clusters.values()]"
   ]
  },
  {
   "cell_type": "code",
   "execution_count": 5,
   "id": "aad729a3-ac2c-4762-a2c9-994baaa01024",
   "metadata": {},
   "outputs": [],
   "source": [
    "from matplotlib.cm import get_cmap\n",
    "colors = get_cmap(\"Set1\").colors\n",
    "def cycle_colors(i, bad_i=-1):\n",
    "    if i == bad_i:\n",
    "        return get_cmap(\"Set1\").get_bad()[:3]\n",
    "    return colors[i%len(colors)][:3]"
   ]
  },
  {
   "cell_type": "code",
   "execution_count": 6,
   "id": "53315a3e-2863-441d-9687-dcaeb20fcd81",
   "metadata": {},
   "outputs": [
    {
     "data": {
      "application/vnd.jupyter.widget-view+json": {
       "model_id": "21be458d004c4cb4b18930ba00ba2405",
       "version_major": 2,
       "version_minor": 0
      },
      "text/plain": [
       "Canvas(toolbar=Toolbar(toolitems=[('Home', 'Reset original view', 'home', 'home'), ('Back', 'Back to previous …"
      ]
     },
     "metadata": {},
     "output_type": "display_data"
    },
    {
     "data": {
      "application/vnd.jupyter.widget-view+json": {
       "model_id": "e1999c2ac62649e6996b590f8ed94abe",
       "version_major": 2,
       "version_minor": 0
      },
      "text/plain": [
       "Canvas(toolbar=Toolbar(toolitems=[('Home', 'Reset original view', 'home', 'home'), ('Back', 'Back to previous …"
      ]
     },
     "metadata": {},
     "output_type": "display_data"
    }
   ],
   "source": [
    "%matplotlib widget\n",
    "from matplotlib import pyplot as plt\n",
    "from matplotlib.patches import Patch\n",
    "from tqdm.notebook import tqdm\n",
    "rgb = img[:,:,[1,5,11]]\n",
    "\n",
    "rgb = rgb - rgb.min()\n",
    "rgb = rgb/rgb.max()\n",
    "plt.figure()\n",
    "plt.imshow(rgb)\n",
    "\n",
    "cluster_image = np.zeros_like(rgb)\n",
    "for k, cluster in enumerate(clusters.values()):\n",
    "    for n in cluster:\n",
    "        n = int(n)\n",
    "        i = n // img.shape[1]\n",
    "        j = n % img.shape[1]\n",
    "        cluster_image[i,j] = cycle_colors(k)\n",
    "for n in other:\n",
    "    n = int(n)\n",
    "    i = n // img.shape[1]\n",
    "    j = n % img.shape[1]\n",
    "    cluster_image[i,j] = cycle_colors(-1,bad_i=-1)\n",
    "fig, (ax1,ax2) = plt.subplots(1,2,gridspec_kw={'width_ratios': [10, 1]})\n",
    "ax1.imshow(cluster_image,extent=(0, cluster_image.shape[1], cluster_image.shape[0], 0))\n",
    "ax2.imshow(np.array([[cycle_colors(k) for k,_ in enumerate(clusters)]]).swapaxes(0,1), extent=(0,3,0,len(clusters)))\n",
    "for k,cluster_name in enumerate(clusters_roots):\n",
    "    ax2.text(0.5,k+0.5,str(clusters_roots[cluster_name]))\n",
    "    \n"
   ]
  },
  {
   "cell_type": "code",
   "execution_count": 119,
   "id": "baf83b9c-1704-43bb-bf7f-6a412138f493",
   "metadata": {},
   "outputs": [],
   "source": [
    "import json\n",
    "with open(\"clusters.json\",'w') as f:\n",
    "    json.dump({i: {\"name\": name, \"cluster\": [(int(index//img.shape[1]), int(index % img.shape[1])) for index in cluster]} for i,(name, cluster) in enumerate(clusters.items())},f)"
   ]
  },
  {
   "cell_type": "code",
   "execution_count": null,
   "id": "dccc7e11-adba-4441-96d6-a4fa2394877f",
   "metadata": {},
   "outputs": [],
   "source": []
  },
  {
   "cell_type": "code",
   "execution_count": 96,
   "id": "44110786",
   "metadata": {},
   "outputs": [
    {
     "name": "stdout",
     "output_type": "stream",
     "text": [
      "[[ 0.  1.  1.  2.]\n",
      " [ 2. 12.  1.  3.]\n",
      " [ 3.  4.  1.  2.]\n",
      " [ 5. 14.  1.  3.]\n",
      " [ 7.  8.  1.  2.]\n",
      " [ 9. 16.  1.  3.]\n",
      " [10. 11.  1.  2.]\n",
      " [13. 15.  2.  6.]\n",
      " [ 6. 19.  3.  7.]\n",
      " [17. 20.  4. 10.]\n",
      " [18. 21.  5. 12.]]\n",
      "18\n",
      "16\n",
      "17\n",
      "12\n",
      "13\n",
      "14\n",
      "15\n",
      "19\n",
      "20\n",
      "21\n",
      "22\n"
     ]
    },
    {
     "data": {
      "text/plain": [
       "{'icoord': [[5.0, 5.0, 15.0, 15.0],\n",
       "  [35.0, 35.0, 45.0, 45.0],\n",
       "  [25.0, 25.0, 40.0, 40.0],\n",
       "  [75.0, 75.0, 85.0, 85.0],\n",
       "  [65.0, 65.0, 80.0, 80.0],\n",
       "  [105.0, 105.0, 115.0, 115.0],\n",
       "  [95.0, 95.0, 110.0, 110.0],\n",
       "  [72.5, 72.5, 102.5, 102.5],\n",
       "  [55.0, 55.0, 87.5, 87.5],\n",
       "  [32.5, 32.5, 71.25, 71.25],\n",
       "  [10.0, 10.0, 51.875, 51.875]],\n",
       " 'dcoord': [[0.0, 1.0, 1.0, 0.0],\n",
       "  [0.0, 1.0, 1.0, 0.0],\n",
       "  [0.0, 1.0, 1.0, 1.0],\n",
       "  [0.0, 1.0, 1.0, 0.0],\n",
       "  [0.0, 1.0, 1.0, 1.0],\n",
       "  [0.0, 1.0, 1.0, 0.0],\n",
       "  [0.0, 1.0, 1.0, 1.0],\n",
       "  [1.0, 2.0, 2.0, 1.0],\n",
       "  [0.0, 3.0, 3.0, 2.0],\n",
       "  [1.0, 4.0, 4.0, 3.0],\n",
       "  [1.0, 5.0, 5.0, 4.0]],\n",
       " 'ivl': ['10', '11', '9', '7', '8', '6', '2', '0', '1', '5', '3', '4'],\n",
       " 'leaves': [10, 11, 9, 7, 8, 6, 2, 0, 1, 5, 3, 4],\n",
       " 'color_list': ['purple',\n",
       "  'orange',\n",
       "  'orange',\n",
       "  'r',\n",
       "  'r',\n",
       "  'g',\n",
       "  'g',\n",
       "  'k',\n",
       "  'brown',\n",
       "  'k',\n",
       "  'k'],\n",
       " 'leaves_color_list': ['purple',\n",
       "  'purple',\n",
       "  'orange',\n",
       "  'orange',\n",
       "  'orange',\n",
       "  'brown',\n",
       "  'r',\n",
       "  'r',\n",
       "  'r',\n",
       "  'g',\n",
       "  'g',\n",
       "  'g']}"
      ]
     },
     "execution_count": 96,
     "metadata": {},
     "output_type": "execute_result"
    },
    {
     "data": {
      "image/png": "[encoded data removed]",
      "text/plain": [
       "<Figure size 640x480 with 1 Axes>"
      ]
     },
     "metadata": {},
     "output_type": "display_data"
    }
   ],
   "source": [
    "from scipy.cluster.hierarchy import linkage, dendrogram\n",
    "colors = {\n",
    "    12: \"r\",\n",
    "    13: \"r\",\n",
    "    14: \"g\",\n",
    "    15: 'g',\n",
    "    16: \"orange\",\n",
    "    17: \"orange\",\n",
    "    18: \"purple\",\n",
    "    20: \"brown\",\n",
    "}\n",
    "def test(k):\n",
    "    print(k)\n",
    "    return colors.get(k, \"k\")\n",
    "distances = [1,1,1,2,1,1,3,4,1,1,5,1]\n",
    "out = linkage([[i] for i in np.cumsum(distances)], method=\"single\")\n",
    "print(out)\n",
    "dendrogram(out, color_threshold=-1, show_leaf_counts=True, get_leaves=True, link_color_func=test, orientation='top')"
   ]
  },
  {
   "cell_type": "code",
   "execution_count": 184,
   "id": "e0a97e74",
   "metadata": {},
   "outputs": [
    {
     "data": {
      "text/plain": [
       "array([[ 1,  0,  0,  0,  0,  0,  0,  1,  1,  0,  0,  0,  0,  0,  1, -1],\n",
       "       [ 1,  1,  0,  0,  0,  0,  0,  0, -1,  1,  0,  0,  0,  0,  0,  1],\n",
       "       [ 0,  1,  1,  0,  0,  0,  0,  0,  1, -1,  1,  0,  0,  0,  0,  0],\n",
       "       [ 0,  0,  1,  1,  0,  0,  0,  0,  0,  1, -1,  1,  0,  0,  0,  0],\n",
       "       [ 0,  0,  0,  1,  1,  0,  0,  0,  0,  0,  1, -1,  1,  0,  0,  0],\n",
       "       [ 0,  0,  0,  0,  1,  1,  0,  0,  0,  0,  0,  1, -1,  1,  0,  0],\n",
       "       [ 0,  0,  0,  0,  0,  1,  1,  0,  0,  0,  0,  0,  1, -1,  1,  0],\n",
       "       [ 0,  0,  0,  0,  0,  0,  1,  1,  0,  0,  0,  0,  0,  1, -1,  1]])"
      ]
     },
     "execution_count": 184,
     "metadata": {},
     "output_type": "execute_result"
    }
   ],
   "source": [
    "import numpy as np\n",
    "v =np.array([1,1,0,0,0,0,0,0])\n",
    "v2 = np.array([1,-1,1,0,0,0,0,0])\n",
    "A = np.hstack([np.roll(v.reshape(-1,1),i) for i in range(v.shape[0])])\n",
    "A2 = np.hstack([np.roll(v2.reshape(-1,1),i) for i in range(v2.shape[0])])\n",
    "A = np.hstack([A,A2])\n",
    "U,Sigma,Vh = np.linalg.svd(A, full_matrices=False)\n",
    "A\n",
    "\n"
   ]
  },
  {
   "cell_type": "code",
   "execution_count": 200,
   "id": "6c53013b",
   "metadata": {},
   "outputs": [
    {
     "data": {
      "text/plain": [
       "((8, 16), (8, 8), (8,), (8, 16))"
      ]
     },
     "execution_count": 200,
     "metadata": {},
     "output_type": "execute_result"
    }
   ],
   "source": [
    "A.shape, U.shape, Sigma.shape, Vh.shape"
   ]
  },
  {
   "cell_type": "code",
   "execution_count": 202,
   "metadata": {},
   "outputs": [
    {
     "data": {
      "text/plain": [
       "([2, 1, 0, 0, 0, 0, 0, 1, 0, 1, 0, 0, 0, 0, 1, 0],\n",
       " array([ 2.00000000e+00,  1.00000000e+00,  4.99600361e-16,  3.33066907e-16,\n",
       "        -2.77555756e-16, -4.44089210e-16,  7.21644966e-16,  1.00000000e+00,\n",
       "        -5.82867088e-16,  1.00000000e+00, -5.27355937e-16,  0.00000000e+00,\n",
       "         5.55111512e-17,  7.49400542e-16,  1.00000000e+00,  1.38777878e-15]),\n",
       " array([ 2.49800181e-15,  8.95419843e-01,  3.70895043e-01, -1.58113883e+00,\n",
       "         6.69494813e-01,  1.61630346e+00,  8.66025404e-01, -8.66025404e-01]))"
      ]
     },
     "execution_count": 202,
     "metadata": {},
     "output_type": "execute_result"
    }
   ],
   "source": [
    "list(A.T.conj() @ v), Vh.T.conj() @ ( Sigma * (U.T.conj() @ v) ), ( Sigma * (U.T.conj() @ v) )"
   ]
  },
  {
   "cell_type": "code",
   "execution_count": 201,
   "id": "f9dfe17d",
   "metadata": {},
   "outputs": [
    {
     "data": {
      "text/plain": [
       "array([3.        , 2.53262977, 2.53262977, 2.23606798, 1.89361729,\n",
       "       1.89361729, 1.73205081, 1.73205081])"
      ]
     },
     "execution_count": 201,
     "metadata": {},
     "output_type": "execute_result"
    }
   ],
   "source": [
    "Sigma"
   ]
  },
  {
   "cell_type": "code",
   "execution_count": 203,
   "id": "ccf59596",
   "metadata": {},
   "outputs": [
    {
     "data": {
      "text/plain": [
       "(array([[-3.53553391e-01, -2.96451690e-17,  5.00000000e-01,\n",
       "         -3.53553391e-01, -2.06163240e-17,  5.00000000e-01,\n",
       "          5.00000000e-01,  5.98638014e-17],\n",
       "        [ 3.53553391e-01,  3.53553391e-01, -3.53553391e-01,\n",
       "         -3.53553391e-01,  3.53553391e-01,  3.53553391e-01,\n",
       "         -6.93889390e-17, -5.00000000e-01],\n",
       "        [-3.53553391e-01, -5.00000000e-01,  9.15933995e-16,\n",
       "         -3.53553391e-01,  5.00000000e-01,  3.60822483e-16,\n",
       "         -5.00000000e-01, -1.63181460e-15],\n",
       "        [ 3.53553391e-01,  3.53553391e-01,  3.53553391e-01,\n",
       "         -3.53553391e-01,  3.53553391e-01, -3.53553391e-01,\n",
       "          6.10622664e-16,  5.00000000e-01],\n",
       "        [-3.53553391e-01, -2.98372438e-15, -5.00000000e-01,\n",
       "         -3.53553391e-01,  2.98372438e-16, -5.00000000e-01,\n",
       "          5.00000000e-01,  2.63677968e-16],\n",
       "        [ 3.53553391e-01, -3.53553391e-01,  3.53553391e-01,\n",
       "         -3.53553391e-01, -3.53553391e-01, -3.53553391e-01,\n",
       "          5.13478149e-16, -5.00000000e-01],\n",
       "        [-3.53553391e-01,  5.00000000e-01, -6.52256027e-16,\n",
       "         -3.53553391e-01, -5.00000000e-01, -1.19348975e-15,\n",
       "         -5.00000000e-01,  1.03272066e-15],\n",
       "        [ 3.53553391e-01, -3.53553391e-01, -3.53553391e-01,\n",
       "         -3.53553391e-01, -3.53553391e-01,  3.53553391e-01,\n",
       "         -1.08246745e-15,  5.00000000e-01]]),\n",
       " array([3.        , 2.53262977, 2.53262977, 2.23606798, 1.89361729,\n",
       "        1.89361729, 1.73205081, 1.73205081]),\n",
       " array([[ 5.06740508e-16,  4.29988496e-16,  1.87636199e-16,\n",
       "          8.93907133e-18,  6.92319645e-17,  9.80152758e-17,\n",
       "          1.25853240e-16,  3.76181030e-16, -3.53553391e-01,\n",
       "          3.53553391e-01, -3.53553391e-01,  3.53553391e-01,\n",
       "         -3.53553391e-01,  3.53553391e-01, -3.53553391e-01,\n",
       "          3.53553391e-01],\n",
       "        [ 1.39599319e-01, -5.78239311e-02, -5.78239311e-02,\n",
       "          1.39599319e-01, -1.39599319e-01,  5.78239311e-02,\n",
       "          5.78239311e-02, -1.39599319e-01, -3.37022568e-01,\n",
       "          4.76621887e-01, -3.37022568e-01,  1.80862334e-16,\n",
       "          3.37022568e-01, -4.76621887e-01,  3.37022568e-01,\n",
       "         -7.08590363e-16],\n",
       "        [ 5.78239311e-02, -1.39599319e-01,  1.39599319e-01,\n",
       "         -5.78239311e-02, -5.78239311e-02,  1.39599319e-01,\n",
       "         -1.39599319e-01,  5.78239311e-02,  3.37022568e-01,\n",
       "         -7.80167000e-16, -3.37022568e-01,  4.76621887e-01,\n",
       "         -3.37022568e-01,  4.17375051e-16,  3.37022568e-01,\n",
       "         -4.76621887e-01],\n",
       "        [-3.16227766e-01, -3.16227766e-01, -3.16227766e-01,\n",
       "         -3.16227766e-01, -3.16227766e-01, -3.16227766e-01,\n",
       "         -3.16227766e-01, -3.16227766e-01, -1.58113883e-01,\n",
       "         -1.58113883e-01, -1.58113883e-01, -1.58113883e-01,\n",
       "         -1.58113883e-01, -1.58113883e-01, -1.58113883e-01,\n",
       "         -1.58113883e-01],\n",
       "        [ 1.86707944e-01,  4.50752850e-01,  4.50752850e-01,\n",
       "          1.86707944e-01, -1.86707944e-01, -4.50752850e-01,\n",
       "         -4.50752850e-01, -1.86707944e-01,  7.73369626e-02,\n",
       "          1.09370981e-01,  7.73369626e-02, -4.22753339e-18,\n",
       "         -7.73369626e-02, -1.09370981e-01, -7.73369626e-02,\n",
       "          1.66866100e-16],\n",
       "        [ 4.50752850e-01,  1.86707944e-01, -1.86707944e-01,\n",
       "         -4.50752850e-01, -4.50752850e-01, -1.86707944e-01,\n",
       "          1.86707944e-01,  4.50752850e-01,  7.73369626e-02,\n",
       "         -3.53811139e-16, -7.73369626e-02, -1.09370981e-01,\n",
       "         -7.73369626e-02,  7.58167952e-16,  7.73369626e-02,\n",
       "          1.09370981e-01],\n",
       "        [ 2.88675135e-01, -2.88675135e-01, -2.88675135e-01,\n",
       "          2.88675135e-01,  2.88675135e-01, -2.88675135e-01,\n",
       "         -2.88675135e-01,  2.88675135e-01, -2.65848684e-16,\n",
       "          2.88675135e-01, -6.52954424e-17, -2.88675135e-01,\n",
       "         -2.33741491e-18,  2.88675135e-01,  1.65523939e-16,\n",
       "         -2.88675135e-01],\n",
       "        [-2.88675135e-01, -2.88675135e-01,  2.88675135e-01,\n",
       "          2.88675135e-01, -2.88675135e-01, -2.88675135e-01,\n",
       "          2.88675135e-01,  2.88675135e-01,  2.88675135e-01,\n",
       "         -2.13432306e-16, -2.88675135e-01,  3.49699408e-17,\n",
       "          2.88675135e-01,  4.90777387e-16, -2.88675135e-01,\n",
       "         -2.91970467e-16]]))"
      ]
     },
     "execution_count": 203,
     "metadata": {},
     "output_type": "execute_result"
    }
   ],
   "source": [
    "U, Sigma, Vh\n"
   ]
  },
  {
   "cell_type": "code",
   "execution_count": 204,
   "id": "bf19d1e5",
   "metadata": {},
   "outputs": [
    {
     "data": {
      "text/plain": [
       "array([-0.5  , -0.354, -0.   ,  0.354,  0.5  ])"
      ]
     },
     "execution_count": 204,
     "metadata": {},
     "output_type": "execute_result"
    }
   ],
   "source": [
    "np.unique(np.around(U.T,3))"
   ]
  },
  {
   "cell_type": "code",
   "execution_count": 211,
   "id": "1031f417",
   "metadata": {},
   "outputs": [
    {
     "data": {
      "text/plain": [
       "array([-0.47662189, -0.45075285, -0.35355339, -0.33702257, -0.31622777,\n",
       "       -0.28867513, -0.18670794, -0.15811388, -0.13959932, -0.10937098,\n",
       "       -0.07733696, -0.05782393,  0.        ,  0.05782393,  0.07733696,\n",
       "        0.10937098,  0.13959932,  0.18670794,  0.28867513,  0.33702257,\n",
       "        0.35355339,  0.45075285,  0.47662189])"
      ]
     },
     "execution_count": 211,
     "metadata": {},
     "output_type": "execute_result"
    }
   ],
   "source": [
    "np.unique(np.around(Vh.T,13))"
   ]
  },
  {
   "cell_type": "code",
   "execution_count": null,
   "metadata": {},
   "outputs": [],
   "source": []
  }
 ],
 "metadata": {
  "kernelspec": {
   "display_name": "Python 3.9.0 64-bit",
   "language": "python",
   "name": "python3"
  },
  "language_info": {
   "codemirror_mode": {
    "name": "ipython",
    "version": 3
   },
   "file_extension": ".py",
   "mimetype": "text/x-python",
   "name": "python",
   "nbconvert_exporter": "python",
   "pygments_lexer": "ipython3",
   "version": "3.9.0"
  },
  "vscode": {
   "interpreter": {
    "hash": "dfcdbe84488c61d1d3257810f6248fb9784a7a1f1ab0b54f122168a81a48c4b9"
   }
  }
 },
 "nbformat": 4,
 "nbformat_minor": 5
}
